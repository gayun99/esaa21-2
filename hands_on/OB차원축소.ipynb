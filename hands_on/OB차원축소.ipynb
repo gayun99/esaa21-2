{
  "nbformat": 4,
  "nbformat_minor": 0,
  "metadata": {
    "colab": {
      "name": "OB차원축소.ipynb",
      "provenance": [],
      "collapsed_sections": [],
      "include_colab_link": true
    },
    "kernelspec": {
      "name": "python3",
      "display_name": "Python 3"
    },
    "language_info": {
      "name": "python"
    }
  },
  "cells": [
    {
      "cell_type": "markdown",
      "metadata": {
        "id": "view-in-github",
        "colab_type": "text"
      },
      "source": [
        "<a href=\"https://colab.research.google.com/github/gayun99/esaa21-2/blob/main/OB%EC%B0%A8%EC%9B%90%EC%B6%95%EC%86%8C.ipynb\" target=\"_parent\"><img src=\"https://colab.research.google.com/assets/colab-badge.svg\" alt=\"Open In Colab\"/></a>"
      ]
    },
    {
      "cell_type": "markdown",
      "metadata": {
        "id": "9dqhGeEZiQn-"
      },
      "source": [
        "1. 데이터셋의 차원을 축소하는 목적은 무엇인가요? 대표적인 단점은 무엇인가요?"
      ]
    },
    {
      "cell_type": "markdown",
      "metadata": {
        "id": "KjQ1_L_FiqDb"
      },
      "source": [
        "차원축소의 목적은 훈련 알고리즘의 속도를 높이고, 데이터를 시각화하고 가장 중요한 특성에 대한 통찰을 얻고, 메모리공간을 절약하기 위함이다.\n",
        "단점은 일부 정보를 잃어버리기 때문에 훈련 알고리즘의 성능이 감소될 수 있고, 계산비용이 높으며, 복잡도가 증가되고 변환된 데이터를 이해하기 어려울 수 있다는 점이 있다."
      ]
    },
    {
      "cell_type": "markdown",
      "metadata": {
        "id": "koJ9d34cibn2"
      },
      "source": [
        "2. 기본 PCA, 점진적 PCA, 랜덤 PCA,커널 PCA는 어느 경우에 사용될까요?"
      ]
    },
    {
      "cell_type": "markdown",
      "metadata": {
        "id": "P9e-3-HzimIE"
      },
      "source": [
        "데이터셋의 크기가 메모리에 맞을때 기본 PCA가 우선적으로 사용된다. 점진적 PCA는 메모리에 담을 수 없는 대용량 데이터셋에 적합하다. 랜덤 PCA는 데이터셋이 메모리 크기에 맞고 차원을 크게 축소시킬 때 사용된다. 커널 PCA는 비선형 데이터셋에 유용하다."
      ]
    },
    {
      "cell_type": "markdown",
      "metadata": {
        "id": "28ZlnWKbi-fL"
      },
      "source": [
        "3. MNIST 데이터셋을 로드하고 훈련세트와 테스트세트로 분할하겠습니다."
      ]
    },
    {
      "cell_type": "markdown",
      "metadata": {
        "id": "NaWuyONJk_6l"
      },
      "source": [
        "# 모듈 설정 및 데이터 불러오기"
      ]
    },
    {
      "cell_type": "code",
      "metadata": {
        "id": "vC5y5w5TjJeb"
      },
      "source": [
        "# 파이썬 ≥3.5 필수\n",
        "import sys\n",
        "assert sys.version_info >= (3, 5)\n",
        "\n",
        "# 사이킷런 ≥0.20 필수\n",
        "import sklearn\n",
        "assert sklearn.__version__ >= \"0.20\"\n",
        "\n",
        "# 공통 모듈 임포트\n",
        "import numpy as np\n",
        "import os\n",
        "\n",
        "# 노트북 실행 결과를 동일하게 유지하기 위해\n",
        "np.random.seed(42)\n",
        "\n",
        "# MNIST 불러오기\n",
        "from sklearn.datasets import fetch_openml\n",
        "\n",
        "mnist = fetch_openml('mnist_784', version=1, as_frame=False)\n",
        "mnist.target = mnist.target.astype(np.uint8)"
      ],
      "execution_count": 1,
      "outputs": []
    },
    {
      "cell_type": "markdown",
      "metadata": {
        "id": "sE46F301lsCK"
      },
      "source": [
        "# 훈련세트와 테스트세트로 분할"
      ]
    },
    {
      "cell_type": "code",
      "metadata": {
        "id": "3FCer4bbjI_E"
      },
      "source": [
        "# 첫 60000개는 훈련을 위한 샘플, 나머지 10000개는 테스트용으로 분할\n",
        "X_train = mnist['data'][:60000]\n",
        "y_train = mnist['target'][:60000]\n",
        "\n",
        "X_test = mnist['data'][60000:]\n",
        "y_test = mnist['target'][60000:]"
      ],
      "execution_count": 2,
      "outputs": []
    },
    {
      "cell_type": "markdown",
      "metadata": {
        "id": "1xe-EAtul6hi"
      },
      "source": [
        "3.1 이 데이터셋을 랜덤 포레스트 분류기로 훈련시키고 시간이 얼마나 오래걸리는지 시간을 잰 후, 테스트 세트로 만들어진 모델의 정확도를 평가합니다."
      ]
    },
    {
      "cell_type": "code",
      "metadata": {
        "id": "0onbkszcmNPQ"
      },
      "source": [
        "# 랜덤포레스트로 훈련시키는 코드\n",
        "from sklearn.ensemble import RandomForestClassifier\n",
        "\n",
        "rnd_clf = RandomForestClassifier(n_estimators=100, random_state=42)"
      ],
      "execution_count": 3,
      "outputs": []
    },
    {
      "cell_type": "code",
      "metadata": {
        "colab": {
          "base_uri": "https://localhost:8080/"
        },
        "id": "MTY66DlXmWGv",
        "outputId": "ad5d368f-a1d1-450f-e08e-20c2e6d5b627"
      },
      "source": [
        "# 훈련 시간을 재는 코드입니다.\n",
        "import time\n",
        "\n",
        "t0 = time.time()\n",
        "rnd_clf.fit(X_train, y_train)\n",
        "t1 = time.time()\n",
        "\n",
        "print(\"훈련 시간: {:.2f}s\".format(t1 - t0))"
      ],
      "execution_count": 4,
      "outputs": [
        {
          "output_type": "stream",
          "name": "stdout",
          "text": [
            "훈련 시간: 45.43s\n"
          ]
        }
      ]
    },
    {
      "cell_type": "code",
      "metadata": {
        "colab": {
          "base_uri": "https://localhost:8080/"
        },
        "id": "klCgXFh3mz-H",
        "outputId": "74cb1506-682e-4a7c-8415-8029b3eef923"
      },
      "source": [
        "# 정확도 평가 코드입니다.\n",
        "from sklearn.metrics import accuracy_score\n",
        "\n",
        "y_pred = rnd_clf.predict(X_test)\n",
        "accuracy_score(y_test, y_pred)"
      ],
      "execution_count": 5,
      "outputs": [
        {
          "output_type": "execute_result",
          "data": {
            "text/plain": [
              "0.9705"
            ]
          },
          "metadata": {},
          "execution_count": 5
        }
      ]
    },
    {
      "cell_type": "markdown",
      "metadata": {
        "id": "tme14Nezm8fI"
      },
      "source": [
        "**3.2 문제 : 데이터셋을 PCA를 사용해 설명된 분산이 95%가 되도록 차원을 축소하세요**"
      ]
    },
    {
      "cell_type": "code",
      "metadata": {
        "id": "6xmHLxA-nGkb"
      },
      "source": [
        "from sklearn.decomposition import PCA\n",
        "\n",
        "pca = PCA(n_components = 0.95)\n",
        "X_train_reduced = pca.fit_transform(X_train)"
      ],
      "execution_count": 6,
      "outputs": []
    },
    {
      "cell_type": "markdown",
      "metadata": {
        "id": "5JHF-cvTnH_t"
      },
      "source": [
        "**3.3 문제 : 이 축소된 데이터셋에 위와 같이 새로운 랜덤포레스트 분류기를 훈련시키고 얼마나 오래걸리는지 확인합니다. 훈련 시간이 빨라졌나요?**"
      ]
    },
    {
      "cell_type": "code",
      "metadata": {
        "id": "iJwlAOF2nfiE"
      },
      "source": [
        "rnd_clf2 = RandomForestClassifier(n_estimators = 100, random_state = 42)\n",
        "t0 = time.time()\n",
        "rnd_clf2.fit(X_train_reduced, y_train)\n",
        "t1 = time.time()"
      ],
      "execution_count": 7,
      "outputs": []
    },
    {
      "cell_type": "code",
      "metadata": {
        "id": "aUsCD5QDnhDn",
        "colab": {
          "base_uri": "https://localhost:8080/"
        },
        "outputId": "9726210e-625c-4056-85b8-50dab747ae19"
      },
      "source": [
        "print(\"훈련 시간: {:.2f}s\".format(t1 - t0))"
      ],
      "execution_count": 8,
      "outputs": [
        {
          "output_type": "stream",
          "name": "stdout",
          "text": [
            "훈련 시간: 116.05s\n"
          ]
        }
      ]
    },
    {
      "cell_type": "markdown",
      "metadata": {
        "id": "5akaZqgnnkIZ"
      },
      "source": [
        "**3.4 문제: 이 테스트 세트에서 이 분류기의 정확도를 평가해보세요. 이전 분류기와 비교해서 어떤가요?**"
      ]
    },
    {
      "cell_type": "code",
      "metadata": {
        "id": "UeShGy29nqrJ",
        "colab": {
          "base_uri": "https://localhost:8080/"
        },
        "outputId": "579a64fb-a7b6-4575-8055-89828dbf696f"
      },
      "source": [
        "X_test_reduced = pca.transform(X_test)\n",
        "\n",
        "y_pred = rnd_clf2.predict(X_test_reduced)\n",
        "accuracy_score(y_test, y_pred)"
      ],
      "execution_count": 10,
      "outputs": [
        {
          "output_type": "execute_result",
          "data": {
            "text/plain": [
              "0.9481"
            ]
          },
          "metadata": {},
          "execution_count": 10
        }
      ]
    },
    {
      "cell_type": "markdown",
      "metadata": {
        "id": "1z6q2On3ocXr"
      },
      "source": [
        "3.5 소프트 맥스 회귀를 사용해서도 같은 방식으로 실험을 해봅니다."
      ]
    },
    {
      "cell_type": "code",
      "metadata": {
        "id": "14CAbbqVojVi",
        "colab": {
          "base_uri": "https://localhost:8080/"
        },
        "outputId": "2dd47c22-8fd0-440d-bad2-fe9a3c8ee898"
      },
      "source": [
        "# 차원축소 이전의 코드\n",
        "from sklearn.linear_model import LogisticRegression\n",
        "\n",
        "log_clf = LogisticRegression(multi_class=\"multinomial\", solver=\"lbfgs\", random_state=42)\n",
        "t0 = time.time()\n",
        "log_clf.fit(X_train, y_train)\n",
        "t1 = time.time()"
      ],
      "execution_count": 11,
      "outputs": [
        {
          "output_type": "stream",
          "name": "stderr",
          "text": [
            "/usr/local/lib/python3.7/dist-packages/sklearn/linear_model/_logistic.py:818: ConvergenceWarning: lbfgs failed to converge (status=1):\n",
            "STOP: TOTAL NO. of ITERATIONS REACHED LIMIT.\n",
            "\n",
            "Increase the number of iterations (max_iter) or scale the data as shown in:\n",
            "    https://scikit-learn.org/stable/modules/preprocessing.html\n",
            "Please also refer to the documentation for alternative solver options:\n",
            "    https://scikit-learn.org/stable/modules/linear_model.html#logistic-regression\n",
            "  extra_warning_msg=_LOGISTIC_SOLVER_CONVERGENCE_MSG,\n"
          ]
        }
      ]
    },
    {
      "cell_type": "code",
      "metadata": {
        "id": "H8YQXt91ovnL",
        "colab": {
          "base_uri": "https://localhost:8080/"
        },
        "outputId": "a348d369-38a5-4b9a-c130-d095a07b53df"
      },
      "source": [
        "print(\"훈련 시간: {:.2f}s\".format(t1 - t0))"
      ],
      "execution_count": 12,
      "outputs": [
        {
          "output_type": "stream",
          "name": "stdout",
          "text": [
            "훈련 시간: 40.86s\n"
          ]
        }
      ]
    },
    {
      "cell_type": "code",
      "metadata": {
        "id": "DJMencFdoxIE",
        "colab": {
          "base_uri": "https://localhost:8080/"
        },
        "outputId": "fd5d1ad9-b24b-43c4-e81e-a169b5052687"
      },
      "source": [
        "y_pred = log_clf.predict(X_test)\n",
        "accuracy_score(y_test, y_pred)"
      ],
      "execution_count": 13,
      "outputs": [
        {
          "output_type": "execute_result",
          "data": {
            "text/plain": [
              "0.9255"
            ]
          },
          "metadata": {},
          "execution_count": 13
        }
      ]
    },
    {
      "cell_type": "markdown",
      "metadata": {
        "id": "_SR8DpJTozQz"
      },
      "source": [
        "**3.6 문제 : 3.2에서 축소된 데이터 셋을 사용해 소프트맥스 회귀모델을 훈련시켜보세요. 그리고 훈련시간을 확인하세요**"
      ]
    },
    {
      "cell_type": "code",
      "metadata": {
        "id": "cj2v-6BzpMW0",
        "colab": {
          "base_uri": "https://localhost:8080/"
        },
        "outputId": "6cc6a53c-aa88-4d4a-f276-3b59b2411d61"
      },
      "source": [
        "log_clf2 = LogisticRegression(multi_class=\"multinomial\", solver=\"lbfgs\", random_state=42)\n",
        "t0 = time.time()\n",
        "log_clf2.fit(X_train_reduced, y_train)\n",
        "t1 = time.time()"
      ],
      "execution_count": 14,
      "outputs": [
        {
          "output_type": "stream",
          "name": "stderr",
          "text": [
            "/usr/local/lib/python3.7/dist-packages/sklearn/linear_model/_logistic.py:818: ConvergenceWarning: lbfgs failed to converge (status=1):\n",
            "STOP: TOTAL NO. of ITERATIONS REACHED LIMIT.\n",
            "\n",
            "Increase the number of iterations (max_iter) or scale the data as shown in:\n",
            "    https://scikit-learn.org/stable/modules/preprocessing.html\n",
            "Please also refer to the documentation for alternative solver options:\n",
            "    https://scikit-learn.org/stable/modules/linear_model.html#logistic-regression\n",
            "  extra_warning_msg=_LOGISTIC_SOLVER_CONVERGENCE_MSG,\n"
          ]
        }
      ]
    },
    {
      "cell_type": "code",
      "metadata": {
        "id": "ZNjNXE-GpSjz",
        "colab": {
          "base_uri": "https://localhost:8080/"
        },
        "outputId": "57531b0a-acdd-42cc-d00a-9467a7bcfb39"
      },
      "source": [
        "print(\"훈련 시간: {:.2f}s\".format(t1 - t0))"
      ],
      "execution_count": 15,
      "outputs": [
        {
          "output_type": "stream",
          "name": "stdout",
          "text": [
            "훈련 시간: 12.72s\n"
          ]
        }
      ]
    },
    {
      "cell_type": "markdown",
      "metadata": {
        "id": "wMy1L2nSpWZm"
      },
      "source": [
        "**3.7 문제 : 모델의 정확도도 확인해보세요**"
      ]
    },
    {
      "cell_type": "code",
      "metadata": {
        "id": "hQtH-9ghpkw3",
        "colab": {
          "base_uri": "https://localhost:8080/"
        },
        "outputId": "f0f03b8a-12be-4c14-832d-0fc84a04ab92"
      },
      "source": [
        "y_pred = log_clf2.predict(X_test_reduced)\n",
        "accuracy_score(y_test, y_pred)"
      ],
      "execution_count": 16,
      "outputs": [
        {
          "output_type": "execute_result",
          "data": {
            "text/plain": [
              "0.9201"
            ]
          },
          "metadata": {},
          "execution_count": 16
        }
      ]
    },
    {
      "cell_type": "markdown",
      "source": [
        ""
      ],
      "metadata": {
        "id": "UbAABbmwSPd8"
      }
    },
    {
      "cell_type": "markdown",
      "metadata": {
        "id": "55eN4bcItVNl"
      },
      "source": [
        "**3.8 문제 : 랜덤포레스트 모형의 훈련시간과 정확도, 소프트맥스 모형의 훈련시간과 정확도를 비교해보세요.**"
      ]
    },
    {
      "cell_type": "markdown",
      "metadata": {
        "id": "FZfgxC2vtW-d"
      },
      "source": [
        "랜덤포레스트 모형은 차원축소를 진행하지 않았을 때 정확도가 0.9705로 가장 높았고, 차원축소를 진행했을 때 오히려 느려지고 정확도가 0.9481로 떨어졌다. 소프트 맥스 모형은 차원축소를 하기 전이나 한 이후나 정확도 차이는 크지 않았고(각각 0.92) 차원축소를 했을 때 속도가 매우 빨라졌다. "
      ]
    }
  ]
}
