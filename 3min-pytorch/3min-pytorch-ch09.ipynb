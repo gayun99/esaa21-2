{
 "cells": [
  {
   "cell_type": "markdown",
   "id": "11f3b390",
   "metadata": {},
   "source": [
    "## 파이토치 기초(7) - GAN"
   ]
  },
  {
   "cell_type": "markdown",
   "id": "88c308fa",
   "metadata": {},
   "source": [
    "* day 1 - 텐서와 Autograd : https://dacon.io/codeshare/4478\n",
    "* day 2 - 신경망모델 구현하기 : https://dacon.io/codeshare/4495\n",
    "* day 3 - DNN : https://dacon.io/codeshare/4532\n",
    "* day 4 - CNN : https://dacon.io/codeshare/4537\n",
    "* day 5 - AutoEncoder 오토 인코더 : https://dacon.io/codeshare/4551"
   ]
  },
  {
   "cell_type": "code",
   "execution_count": 1,
   "id": "8ed0aaa3",
   "metadata": {
    "ExecuteTime": {
     "end_time": "2022-02-21T23:39:58.688800Z",
     "start_time": "2022-02-21T23:39:46.053574Z"
    }
   },
   "outputs": [],
   "source": [
    "import os\n",
    "import torch\n",
    "import torchvision\n",
    "import torch.nn as nn\n",
    "import torch.optim as optim\n",
    "from torchvision import transforms, datasets\n",
    "from torchvision.utils import save_image\n",
    "import matplotlib.pyplot as plt\n",
    "import numpy as np"
   ]
  },
  {
   "cell_type": "code",
   "execution_count": 2,
   "id": "058d9e26",
   "metadata": {
    "ExecuteTime": {
     "end_time": "2022-02-21T23:39:59.829632Z",
     "start_time": "2022-02-21T23:39:59.804697Z"
    }
   },
   "outputs": [
    {
     "name": "stdout",
     "output_type": "stream",
     "text": [
      "Using Device: cpu\n"
     ]
    }
   ],
   "source": [
    "# 하이퍼파라미터\n",
    "EPOCHS = 500\n",
    "BATCH_SIZE = 100\n",
    "USE_CUDA = torch.cuda.is_available()\n",
    "DEVICE = torch.device(\"cuda\" if USE_CUDA else \"cpu\")\n",
    "print(\"Using Device:\", DEVICE)"
   ]
  },
  {
   "cell_type": "code",
   "execution_count": 3,
   "id": "a595e8c4",
   "metadata": {
    "ExecuteTime": {
     "end_time": "2022-02-21T23:40:07.096206Z",
     "start_time": "2022-02-21T23:40:06.802990Z"
    }
   },
   "outputs": [],
   "source": [
    "# Fashion MNIST 데이터셋\n",
    "trainset = datasets.FashionMNIST(\n",
    "    './.data',\n",
    "    train=True,\n",
    "    download=True,\n",
    "    transform=transforms.Compose([\n",
    "       transforms.ToTensor(),\n",
    "       transforms.Normalize((0.5,), (0.5,))\n",
    "    ])\n",
    ")\n",
    "train_loader = torch.utils.data.DataLoader(\n",
    "    dataset     = trainset,\n",
    "    batch_size  = BATCH_SIZE,\n",
    "    shuffle     = True\n",
    ")"
   ]
  },
  {
   "cell_type": "code",
   "execution_count": 4,
   "id": "f033bff4",
   "metadata": {
    "ExecuteTime": {
     "end_time": "2022-02-21T23:40:15.400007Z",
     "start_time": "2022-02-21T23:40:15.358118Z"
    }
   },
   "outputs": [],
   "source": [
    "# 생성자 (Generator)\n",
    "G = nn.Sequential(\n",
    "        nn.Linear(64, 256),\n",
    "        nn.ReLU(),\n",
    "        nn.Linear(256, 256),\n",
    "        nn.ReLU(),\n",
    "        nn.Linear(256, 784),\n",
    "        nn.Tanh())"
   ]
  },
  {
   "cell_type": "code",
   "execution_count": 5,
   "id": "4604dfb6",
   "metadata": {
    "ExecuteTime": {
     "end_time": "2022-02-21T23:40:22.910106Z",
     "start_time": "2022-02-21T23:40:22.885232Z"
    }
   },
   "outputs": [],
   "source": [
    "# 판별자 (Discriminator)\n",
    "D = nn.Sequential(\n",
    "        nn.Linear(784, 256),\n",
    "        nn.LeakyReLU(0.2),\n",
    "        nn.Linear(256, 256),\n",
    "        nn.LeakyReLU(0.2),\n",
    "        nn.Linear(256, 1),\n",
    "        nn.Sigmoid())"
   ]
  },
  {
   "cell_type": "code",
   "execution_count": 6,
   "id": "e18f9539",
   "metadata": {
    "ExecuteTime": {
     "end_time": "2022-02-21T23:40:31.701449Z",
     "start_time": "2022-02-21T23:40:31.686641Z"
    }
   },
   "outputs": [],
   "source": [
    "# 모델의 가중치를 지정한 장치로 보내기\n",
    "D = D.to(DEVICE)\n",
    "G = G.to(DEVICE)\n",
    "\n",
    "# 이진 크로스 엔트로피 (Binary cross entropy) 오차 함수와\n",
    "# 생성자와 판별자를 최적화할 Adam 모듈\n",
    "criterion = nn.BCELoss()\n",
    "d_optimizer = optim.Adam(D.parameters(), lr=0.0002)\n",
    "g_optimizer = optim.Adam(G.parameters(), lr=0.0002)"
   ]
  },
  {
   "cell_type": "code",
   "execution_count": 7,
   "id": "736fdc86",
   "metadata": {
    "ExecuteTime": {
     "end_time": "2022-02-22T06:24:55.478431Z",
     "start_time": "2022-02-21T23:40:40.520028Z"
    }
   },
   "outputs": [
    {
     "name": "stdout",
     "output_type": "stream",
     "text": [
      "Epoch [0/500], d_loss: 0.0291, g_loss: 5.5857, D(x): 0.99, D(G(z)): 0.02\n",
      "Epoch [1/500], d_loss: 0.0169, g_loss: 5.9794, D(x): 0.99, D(G(z)): 0.01\n",
      "Epoch [2/500], d_loss: 0.0151, g_loss: 7.4223, D(x): 1.00, D(G(z)): 0.01\n",
      "Epoch [3/500], d_loss: 0.0155, g_loss: 9.0655, D(x): 0.99, D(G(z)): 0.00\n",
      "Epoch [4/500], d_loss: 0.2175, g_loss: 7.0592, D(x): 0.94, D(G(z)): 0.04\n",
      "Epoch [5/500], d_loss: 0.0646, g_loss: 4.2504, D(x): 0.98, D(G(z)): 0.03\n",
      "Epoch [6/500], d_loss: 0.1090, g_loss: 3.7022, D(x): 0.96, D(G(z)): 0.05\n",
      "Epoch [7/500], d_loss: 0.3756, g_loss: 4.8129, D(x): 0.93, D(G(z)): 0.05\n",
      "Epoch [8/500], d_loss: 0.2150, g_loss: 3.7147, D(x): 0.93, D(G(z)): 0.03\n",
      "Epoch [9/500], d_loss: 0.3663, g_loss: 3.9995, D(x): 0.93, D(G(z)): 0.12\n",
      "Epoch [10/500], d_loss: 0.1750, g_loss: 4.1805, D(x): 0.94, D(G(z)): 0.05\n",
      "Epoch [11/500], d_loss: 0.1852, g_loss: 4.7130, D(x): 0.95, D(G(z)): 0.07\n",
      "Epoch [12/500], d_loss: 0.4667, g_loss: 4.2570, D(x): 0.86, D(G(z)): 0.06\n",
      "Epoch [13/500], d_loss: 0.1302, g_loss: 4.1206, D(x): 0.96, D(G(z)): 0.03\n",
      "Epoch [14/500], d_loss: 0.2325, g_loss: 4.4964, D(x): 0.94, D(G(z)): 0.11\n",
      "Epoch [15/500], d_loss: 0.2570, g_loss: 4.1102, D(x): 0.89, D(G(z)): 0.07\n",
      "Epoch [16/500], d_loss: 0.4227, g_loss: 3.5406, D(x): 0.88, D(G(z)): 0.14\n",
      "Epoch [17/500], d_loss: 0.3080, g_loss: 2.8467, D(x): 0.90, D(G(z)): 0.12\n",
      "Epoch [18/500], d_loss: 0.4486, g_loss: 3.3568, D(x): 0.90, D(G(z)): 0.15\n",
      "Epoch [19/500], d_loss: 0.2172, g_loss: 3.7865, D(x): 0.93, D(G(z)): 0.08\n",
      "Epoch [20/500], d_loss: 0.2519, g_loss: 3.7859, D(x): 0.93, D(G(z)): 0.10\n",
      "Epoch [21/500], d_loss: 0.5377, g_loss: 2.8910, D(x): 0.88, D(G(z)): 0.22\n",
      "Epoch [22/500], d_loss: 0.3787, g_loss: 3.5732, D(x): 0.90, D(G(z)): 0.15\n",
      "Epoch [23/500], d_loss: 0.3186, g_loss: 3.7941, D(x): 0.90, D(G(z)): 0.09\n",
      "Epoch [24/500], d_loss: 0.3075, g_loss: 3.8637, D(x): 0.96, D(G(z)): 0.17\n",
      "Epoch [25/500], d_loss: 0.3888, g_loss: 4.9562, D(x): 0.86, D(G(z)): 0.05\n",
      "Epoch [26/500], d_loss: 0.3668, g_loss: 3.1336, D(x): 0.91, D(G(z)): 0.15\n",
      "Epoch [27/500], d_loss: 0.5028, g_loss: 2.8245, D(x): 0.92, D(G(z)): 0.24\n",
      "Epoch [28/500], d_loss: 0.4485, g_loss: 3.1893, D(x): 0.86, D(G(z)): 0.14\n",
      "Epoch [29/500], d_loss: 0.5449, g_loss: 2.4260, D(x): 0.85, D(G(z)): 0.17\n",
      "Epoch [30/500], d_loss: 0.5833, g_loss: 3.6173, D(x): 0.86, D(G(z)): 0.17\n",
      "Epoch [31/500], d_loss: 0.4799, g_loss: 3.0375, D(x): 0.88, D(G(z)): 0.16\n",
      "Epoch [32/500], d_loss: 0.3541, g_loss: 3.0567, D(x): 0.88, D(G(z)): 0.10\n",
      "Epoch [33/500], d_loss: 0.4392, g_loss: 3.5033, D(x): 0.86, D(G(z)): 0.09\n",
      "Epoch [34/500], d_loss: 0.4147, g_loss: 2.6964, D(x): 0.93, D(G(z)): 0.23\n",
      "Epoch [35/500], d_loss: 0.5957, g_loss: 3.6745, D(x): 0.78, D(G(z)): 0.09\n",
      "Epoch [36/500], d_loss: 0.4944, g_loss: 2.7142, D(x): 0.94, D(G(z)): 0.27\n",
      "Epoch [37/500], d_loss: 0.6300, g_loss: 2.4100, D(x): 0.79, D(G(z)): 0.15\n",
      "Epoch [38/500], d_loss: 0.5606, g_loss: 2.6957, D(x): 0.82, D(G(z)): 0.18\n",
      "Epoch [39/500], d_loss: 0.7532, g_loss: 2.3536, D(x): 0.74, D(G(z)): 0.10\n",
      "Epoch [40/500], d_loss: 0.5112, g_loss: 2.3863, D(x): 0.85, D(G(z)): 0.19\n",
      "Epoch [41/500], d_loss: 0.6486, g_loss: 3.4826, D(x): 0.77, D(G(z)): 0.11\n",
      "Epoch [42/500], d_loss: 0.8274, g_loss: 2.9371, D(x): 0.78, D(G(z)): 0.16\n",
      "Epoch [43/500], d_loss: 0.4420, g_loss: 2.8621, D(x): 0.86, D(G(z)): 0.13\n",
      "Epoch [44/500], d_loss: 0.4865, g_loss: 3.4997, D(x): 0.86, D(G(z)): 0.19\n",
      "Epoch [45/500], d_loss: 0.6610, g_loss: 2.6235, D(x): 0.79, D(G(z)): 0.21\n",
      "Epoch [46/500], d_loss: 0.7350, g_loss: 2.8567, D(x): 0.86, D(G(z)): 0.28\n",
      "Epoch [47/500], d_loss: 0.7492, g_loss: 3.5845, D(x): 0.72, D(G(z)): 0.11\n",
      "Epoch [48/500], d_loss: 0.6947, g_loss: 2.3256, D(x): 0.80, D(G(z)): 0.22\n",
      "Epoch [49/500], d_loss: 0.7067, g_loss: 1.9014, D(x): 0.75, D(G(z)): 0.17\n",
      "Epoch [50/500], d_loss: 0.7623, g_loss: 2.2074, D(x): 0.80, D(G(z)): 0.23\n",
      "Epoch [51/500], d_loss: 0.5551, g_loss: 2.3974, D(x): 0.84, D(G(z)): 0.18\n",
      "Epoch [52/500], d_loss: 0.9192, g_loss: 2.1557, D(x): 0.76, D(G(z)): 0.26\n",
      "Epoch [53/500], d_loss: 0.7953, g_loss: 2.2942, D(x): 0.76, D(G(z)): 0.23\n",
      "Epoch [54/500], d_loss: 0.5953, g_loss: 2.5094, D(x): 0.77, D(G(z)): 0.19\n",
      "Epoch [55/500], d_loss: 0.5370, g_loss: 2.8365, D(x): 0.86, D(G(z)): 0.19\n",
      "Epoch [56/500], d_loss: 0.6621, g_loss: 2.1780, D(x): 0.81, D(G(z)): 0.24\n",
      "Epoch [57/500], d_loss: 0.5992, g_loss: 2.3054, D(x): 0.83, D(G(z)): 0.23\n",
      "Epoch [58/500], d_loss: 0.7953, g_loss: 2.2299, D(x): 0.72, D(G(z)): 0.19\n",
      "Epoch [59/500], d_loss: 0.7034, g_loss: 2.7120, D(x): 0.75, D(G(z)): 0.18\n",
      "Epoch [60/500], d_loss: 0.7909, g_loss: 2.0838, D(x): 0.78, D(G(z)): 0.25\n",
      "Epoch [61/500], d_loss: 0.7331, g_loss: 2.1568, D(x): 0.77, D(G(z)): 0.23\n",
      "Epoch [62/500], d_loss: 0.7341, g_loss: 1.7968, D(x): 0.81, D(G(z)): 0.29\n",
      "Epoch [63/500], d_loss: 0.8500, g_loss: 2.5729, D(x): 0.74, D(G(z)): 0.23\n",
      "Epoch [64/500], d_loss: 0.8749, g_loss: 1.9944, D(x): 0.74, D(G(z)): 0.26\n",
      "Epoch [65/500], d_loss: 0.9004, g_loss: 2.1918, D(x): 0.70, D(G(z)): 0.22\n",
      "Epoch [66/500], d_loss: 0.7221, g_loss: 1.6805, D(x): 0.80, D(G(z)): 0.29\n",
      "Epoch [67/500], d_loss: 0.7163, g_loss: 2.1429, D(x): 0.79, D(G(z)): 0.25\n",
      "Epoch [68/500], d_loss: 0.9342, g_loss: 2.0221, D(x): 0.74, D(G(z)): 0.32\n",
      "Epoch [69/500], d_loss: 0.5925, g_loss: 2.3576, D(x): 0.81, D(G(z)): 0.22\n",
      "Epoch [70/500], d_loss: 0.6411, g_loss: 2.4130, D(x): 0.72, D(G(z)): 0.14\n",
      "Epoch [71/500], d_loss: 0.6168, g_loss: 2.7630, D(x): 0.77, D(G(z)): 0.17\n",
      "Epoch [72/500], d_loss: 0.6307, g_loss: 2.1507, D(x): 0.77, D(G(z)): 0.18\n",
      "Epoch [73/500], d_loss: 0.7030, g_loss: 2.5785, D(x): 0.82, D(G(z)): 0.27\n",
      "Epoch [74/500], d_loss: 0.6411, g_loss: 2.2965, D(x): 0.78, D(G(z)): 0.21\n",
      "Epoch [75/500], d_loss: 0.7029, g_loss: 1.9454, D(x): 0.77, D(G(z)): 0.25\n",
      "Epoch [76/500], d_loss: 0.8821, g_loss: 2.1546, D(x): 0.64, D(G(z)): 0.18\n",
      "Epoch [77/500], d_loss: 0.5890, g_loss: 1.8161, D(x): 0.83, D(G(z)): 0.26\n",
      "Epoch [78/500], d_loss: 0.6733, g_loss: 3.1734, D(x): 0.73, D(G(z)): 0.16\n",
      "Epoch [79/500], d_loss: 0.7451, g_loss: 2.1986, D(x): 0.81, D(G(z)): 0.29\n",
      "Epoch [80/500], d_loss: 0.8173, g_loss: 2.6861, D(x): 0.82, D(G(z)): 0.29\n",
      "Epoch [81/500], d_loss: 0.8763, g_loss: 1.7699, D(x): 0.75, D(G(z)): 0.28\n",
      "Epoch [82/500], d_loss: 0.9329, g_loss: 2.1073, D(x): 0.73, D(G(z)): 0.27\n",
      "Epoch [83/500], d_loss: 0.6910, g_loss: 2.1318, D(x): 0.79, D(G(z)): 0.22\n",
      "Epoch [84/500], d_loss: 0.8049, g_loss: 2.1284, D(x): 0.75, D(G(z)): 0.25\n",
      "Epoch [85/500], d_loss: 0.9015, g_loss: 1.9337, D(x): 0.73, D(G(z)): 0.28\n",
      "Epoch [86/500], d_loss: 0.9151, g_loss: 2.4418, D(x): 0.78, D(G(z)): 0.32\n",
      "Epoch [87/500], d_loss: 0.6677, g_loss: 1.7999, D(x): 0.75, D(G(z)): 0.22\n",
      "Epoch [88/500], d_loss: 0.7704, g_loss: 2.0848, D(x): 0.72, D(G(z)): 0.19\n",
      "Epoch [89/500], d_loss: 0.8130, g_loss: 2.2528, D(x): 0.70, D(G(z)): 0.21\n",
      "Epoch [90/500], d_loss: 0.8022, g_loss: 2.2214, D(x): 0.73, D(G(z)): 0.21\n",
      "Epoch [91/500], d_loss: 0.8625, g_loss: 1.6523, D(x): 0.74, D(G(z)): 0.27\n",
      "Epoch [92/500], d_loss: 0.6098, g_loss: 2.3218, D(x): 0.78, D(G(z)): 0.20\n",
      "Epoch [93/500], d_loss: 0.7685, g_loss: 1.9093, D(x): 0.79, D(G(z)): 0.28\n",
      "Epoch [94/500], d_loss: 0.7110, g_loss: 2.1339, D(x): 0.75, D(G(z)): 0.22\n",
      "Epoch [95/500], d_loss: 0.6042, g_loss: 2.0648, D(x): 0.79, D(G(z)): 0.23\n",
      "Epoch [96/500], d_loss: 1.0015, g_loss: 1.9647, D(x): 0.69, D(G(z)): 0.27\n",
      "Epoch [97/500], d_loss: 0.9754, g_loss: 1.8478, D(x): 0.74, D(G(z)): 0.31\n",
      "Epoch [98/500], d_loss: 0.6251, g_loss: 2.3595, D(x): 0.77, D(G(z)): 0.18\n",
      "Epoch [99/500], d_loss: 0.9415, g_loss: 1.4364, D(x): 0.72, D(G(z)): 0.31\n",
      "Epoch [100/500], d_loss: 0.8054, g_loss: 2.2554, D(x): 0.69, D(G(z)): 0.18\n",
      "Epoch [101/500], d_loss: 0.9671, g_loss: 1.5164, D(x): 0.70, D(G(z)): 0.33\n",
      "Epoch [102/500], d_loss: 0.6762, g_loss: 2.0753, D(x): 0.75, D(G(z)): 0.21\n",
      "Epoch [103/500], d_loss: 0.7185, g_loss: 1.8060, D(x): 0.80, D(G(z)): 0.26\n",
      "Epoch [104/500], d_loss: 0.8257, g_loss: 1.8403, D(x): 0.71, D(G(z)): 0.27\n",
      "Epoch [105/500], d_loss: 0.7683, g_loss: 2.0631, D(x): 0.82, D(G(z)): 0.29\n",
      "Epoch [106/500], d_loss: 0.7573, g_loss: 1.7861, D(x): 0.81, D(G(z)): 0.32\n",
      "Epoch [107/500], d_loss: 0.9703, g_loss: 2.0187, D(x): 0.72, D(G(z)): 0.24\n",
      "Epoch [108/500], d_loss: 0.7785, g_loss: 1.3645, D(x): 0.76, D(G(z)): 0.30\n",
      "Epoch [109/500], d_loss: 0.8392, g_loss: 1.9145, D(x): 0.73, D(G(z)): 0.27\n",
      "Epoch [110/500], d_loss: 0.9192, g_loss: 2.2727, D(x): 0.65, D(G(z)): 0.21\n"
     ]
    },
    {
     "name": "stdout",
     "output_type": "stream",
     "text": [
      "Epoch [111/500], d_loss: 1.1386, g_loss: 1.5184, D(x): 0.72, D(G(z)): 0.38\n",
      "Epoch [112/500], d_loss: 0.7923, g_loss: 1.6079, D(x): 0.77, D(G(z)): 0.29\n",
      "Epoch [113/500], d_loss: 0.9788, g_loss: 2.0717, D(x): 0.59, D(G(z)): 0.15\n",
      "Epoch [114/500], d_loss: 0.7501, g_loss: 2.1744, D(x): 0.71, D(G(z)): 0.22\n",
      "Epoch [115/500], d_loss: 1.0596, g_loss: 1.4863, D(x): 0.69, D(G(z)): 0.35\n",
      "Epoch [116/500], d_loss: 0.9609, g_loss: 1.7032, D(x): 0.67, D(G(z)): 0.28\n",
      "Epoch [117/500], d_loss: 0.5743, g_loss: 2.3436, D(x): 0.80, D(G(z)): 0.21\n",
      "Epoch [118/500], d_loss: 0.9758, g_loss: 1.8003, D(x): 0.68, D(G(z)): 0.30\n",
      "Epoch [119/500], d_loss: 0.5771, g_loss: 2.3403, D(x): 0.80, D(G(z)): 0.21\n",
      "Epoch [120/500], d_loss: 1.1258, g_loss: 1.8912, D(x): 0.69, D(G(z)): 0.35\n",
      "Epoch [121/500], d_loss: 0.8273, g_loss: 1.7771, D(x): 0.78, D(G(z)): 0.29\n",
      "Epoch [122/500], d_loss: 1.0972, g_loss: 1.4908, D(x): 0.58, D(G(z)): 0.23\n",
      "Epoch [123/500], d_loss: 1.1241, g_loss: 2.2446, D(x): 0.64, D(G(z)): 0.21\n",
      "Epoch [124/500], d_loss: 0.8164, g_loss: 1.8928, D(x): 0.73, D(G(z)): 0.27\n",
      "Epoch [125/500], d_loss: 0.9199, g_loss: 1.4087, D(x): 0.74, D(G(z)): 0.36\n",
      "Epoch [126/500], d_loss: 0.8266, g_loss: 1.5952, D(x): 0.75, D(G(z)): 0.32\n",
      "Epoch [127/500], d_loss: 1.0875, g_loss: 1.7599, D(x): 0.61, D(G(z)): 0.29\n",
      "Epoch [128/500], d_loss: 0.8603, g_loss: 1.4485, D(x): 0.79, D(G(z)): 0.36\n",
      "Epoch [129/500], d_loss: 0.9377, g_loss: 1.7825, D(x): 0.69, D(G(z)): 0.25\n",
      "Epoch [130/500], d_loss: 1.0624, g_loss: 1.6624, D(x): 0.64, D(G(z)): 0.29\n",
      "Epoch [131/500], d_loss: 0.8828, g_loss: 1.8782, D(x): 0.74, D(G(z)): 0.28\n",
      "Epoch [132/500], d_loss: 0.9745, g_loss: 1.5276, D(x): 0.70, D(G(z)): 0.33\n",
      "Epoch [133/500], d_loss: 0.9610, g_loss: 1.4160, D(x): 0.74, D(G(z)): 0.36\n",
      "Epoch [134/500], d_loss: 1.0144, g_loss: 1.4888, D(x): 0.73, D(G(z)): 0.37\n",
      "Epoch [135/500], d_loss: 1.0391, g_loss: 1.3913, D(x): 0.64, D(G(z)): 0.30\n",
      "Epoch [136/500], d_loss: 0.9811, g_loss: 1.4943, D(x): 0.67, D(G(z)): 0.31\n",
      "Epoch [137/500], d_loss: 0.9689, g_loss: 1.6915, D(x): 0.67, D(G(z)): 0.30\n",
      "Epoch [138/500], d_loss: 0.8780, g_loss: 1.4445, D(x): 0.70, D(G(z)): 0.31\n",
      "Epoch [139/500], d_loss: 0.9150, g_loss: 1.5339, D(x): 0.74, D(G(z)): 0.34\n",
      "Epoch [140/500], d_loss: 1.0899, g_loss: 1.2145, D(x): 0.69, D(G(z)): 0.38\n",
      "Epoch [141/500], d_loss: 0.9172, g_loss: 1.5485, D(x): 0.74, D(G(z)): 0.34\n",
      "Epoch [142/500], d_loss: 1.0712, g_loss: 1.5005, D(x): 0.67, D(G(z)): 0.34\n",
      "Epoch [143/500], d_loss: 0.8370, g_loss: 1.7976, D(x): 0.76, D(G(z)): 0.30\n",
      "Epoch [144/500], d_loss: 0.8808, g_loss: 1.5929, D(x): 0.71, D(G(z)): 0.31\n",
      "Epoch [145/500], d_loss: 0.8355, g_loss: 1.7710, D(x): 0.67, D(G(z)): 0.23\n",
      "Epoch [146/500], d_loss: 0.9887, g_loss: 1.5102, D(x): 0.66, D(G(z)): 0.30\n",
      "Epoch [147/500], d_loss: 1.1185, g_loss: 1.3823, D(x): 0.63, D(G(z)): 0.35\n",
      "Epoch [148/500], d_loss: 0.8458, g_loss: 1.7012, D(x): 0.72, D(G(z)): 0.28\n",
      "Epoch [149/500], d_loss: 0.9507, g_loss: 1.7282, D(x): 0.66, D(G(z)): 0.28\n",
      "Epoch [150/500], d_loss: 0.8311, g_loss: 1.5505, D(x): 0.71, D(G(z)): 0.28\n",
      "Epoch [151/500], d_loss: 0.9815, g_loss: 1.4934, D(x): 0.66, D(G(z)): 0.31\n",
      "Epoch [152/500], d_loss: 1.0145, g_loss: 1.5897, D(x): 0.63, D(G(z)): 0.30\n",
      "Epoch [153/500], d_loss: 1.1143, g_loss: 1.4063, D(x): 0.62, D(G(z)): 0.33\n",
      "Epoch [154/500], d_loss: 0.8228, g_loss: 1.7143, D(x): 0.77, D(G(z)): 0.32\n",
      "Epoch [155/500], d_loss: 0.9352, g_loss: 1.3939, D(x): 0.72, D(G(z)): 0.34\n",
      "Epoch [156/500], d_loss: 1.1191, g_loss: 1.4816, D(x): 0.66, D(G(z)): 0.33\n",
      "Epoch [157/500], d_loss: 1.0749, g_loss: 1.2128, D(x): 0.69, D(G(z)): 0.37\n",
      "Epoch [158/500], d_loss: 0.8121, g_loss: 1.5427, D(x): 0.75, D(G(z)): 0.30\n",
      "Epoch [159/500], d_loss: 1.0810, g_loss: 1.7183, D(x): 0.62, D(G(z)): 0.28\n",
      "Epoch [160/500], d_loss: 1.1841, g_loss: 1.5260, D(x): 0.61, D(G(z)): 0.35\n",
      "Epoch [161/500], d_loss: 0.9868, g_loss: 1.5296, D(x): 0.72, D(G(z)): 0.34\n",
      "Epoch [162/500], d_loss: 1.1219, g_loss: 1.5072, D(x): 0.62, D(G(z)): 0.29\n",
      "Epoch [163/500], d_loss: 1.1724, g_loss: 1.4154, D(x): 0.60, D(G(z)): 0.32\n",
      "Epoch [164/500], d_loss: 1.0102, g_loss: 1.6175, D(x): 0.63, D(G(z)): 0.29\n",
      "Epoch [165/500], d_loss: 0.9784, g_loss: 1.4614, D(x): 0.66, D(G(z)): 0.32\n",
      "Epoch [166/500], d_loss: 0.9415, g_loss: 1.4796, D(x): 0.69, D(G(z)): 0.30\n",
      "Epoch [167/500], d_loss: 1.2413, g_loss: 1.3460, D(x): 0.62, D(G(z)): 0.37\n",
      "Epoch [168/500], d_loss: 0.8582, g_loss: 1.5995, D(x): 0.73, D(G(z)): 0.30\n",
      "Epoch [169/500], d_loss: 0.8689, g_loss: 1.5970, D(x): 0.71, D(G(z)): 0.29\n",
      "Epoch [170/500], d_loss: 1.1451, g_loss: 1.2791, D(x): 0.67, D(G(z)): 0.40\n",
      "Epoch [171/500], d_loss: 1.0245, g_loss: 1.3487, D(x): 0.66, D(G(z)): 0.36\n",
      "Epoch [172/500], d_loss: 0.8787, g_loss: 1.7834, D(x): 0.66, D(G(z)): 0.25\n",
      "Epoch [173/500], d_loss: 1.1334, g_loss: 1.2865, D(x): 0.71, D(G(z)): 0.42\n",
      "Epoch [174/500], d_loss: 1.0582, g_loss: 1.4652, D(x): 0.70, D(G(z)): 0.36\n",
      "Epoch [175/500], d_loss: 1.0430, g_loss: 1.4735, D(x): 0.66, D(G(z)): 0.33\n",
      "Epoch [176/500], d_loss: 1.0544, g_loss: 1.2872, D(x): 0.66, D(G(z)): 0.34\n",
      "Epoch [177/500], d_loss: 0.8434, g_loss: 1.5390, D(x): 0.72, D(G(z)): 0.31\n",
      "Epoch [178/500], d_loss: 1.1550, g_loss: 1.3083, D(x): 0.62, D(G(z)): 0.36\n",
      "Epoch [179/500], d_loss: 0.9925, g_loss: 1.5743, D(x): 0.68, D(G(z)): 0.31\n",
      "Epoch [180/500], d_loss: 0.9877, g_loss: 1.5909, D(x): 0.66, D(G(z)): 0.30\n",
      "Epoch [181/500], d_loss: 0.8794, g_loss: 1.7546, D(x): 0.68, D(G(z)): 0.28\n",
      "Epoch [182/500], d_loss: 0.8795, g_loss: 1.5785, D(x): 0.67, D(G(z)): 0.27\n",
      "Epoch [183/500], d_loss: 1.1101, g_loss: 1.2461, D(x): 0.65, D(G(z)): 0.39\n",
      "Epoch [184/500], d_loss: 0.9181, g_loss: 1.4492, D(x): 0.69, D(G(z)): 0.31\n",
      "Epoch [185/500], d_loss: 1.0620, g_loss: 1.4256, D(x): 0.62, D(G(z)): 0.32\n",
      "Epoch [186/500], d_loss: 1.0743, g_loss: 1.4297, D(x): 0.66, D(G(z)): 0.37\n",
      "Epoch [187/500], d_loss: 0.9276, g_loss: 1.7119, D(x): 0.70, D(G(z)): 0.31\n",
      "Epoch [188/500], d_loss: 0.9769, g_loss: 1.4522, D(x): 0.68, D(G(z)): 0.35\n",
      "Epoch [189/500], d_loss: 0.9111, g_loss: 1.4757, D(x): 0.71, D(G(z)): 0.33\n",
      "Epoch [190/500], d_loss: 1.2063, g_loss: 1.2465, D(x): 0.63, D(G(z)): 0.37\n",
      "Epoch [191/500], d_loss: 0.8737, g_loss: 1.5738, D(x): 0.68, D(G(z)): 0.29\n",
      "Epoch [192/500], d_loss: 0.9804, g_loss: 1.4743, D(x): 0.67, D(G(z)): 0.32\n",
      "Epoch [193/500], d_loss: 1.1047, g_loss: 1.2525, D(x): 0.64, D(G(z)): 0.37\n",
      "Epoch [194/500], d_loss: 1.0386, g_loss: 1.5873, D(x): 0.64, D(G(z)): 0.31\n",
      "Epoch [195/500], d_loss: 1.1655, g_loss: 1.4242, D(x): 0.60, D(G(z)): 0.32\n",
      "Epoch [196/500], d_loss: 1.0460, g_loss: 1.5973, D(x): 0.61, D(G(z)): 0.29\n",
      "Epoch [197/500], d_loss: 1.0406, g_loss: 1.3842, D(x): 0.63, D(G(z)): 0.31\n",
      "Epoch [198/500], d_loss: 0.8784, g_loss: 1.6258, D(x): 0.71, D(G(z)): 0.30\n",
      "Epoch [199/500], d_loss: 1.2982, g_loss: 1.0941, D(x): 0.64, D(G(z)): 0.44\n",
      "Epoch [200/500], d_loss: 1.0122, g_loss: 1.3145, D(x): 0.66, D(G(z)): 0.34\n",
      "Epoch [201/500], d_loss: 1.0066, g_loss: 1.4949, D(x): 0.62, D(G(z)): 0.30\n",
      "Epoch [202/500], d_loss: 1.2159, g_loss: 1.1328, D(x): 0.66, D(G(z)): 0.39\n",
      "Epoch [203/500], d_loss: 0.8123, g_loss: 1.6873, D(x): 0.71, D(G(z)): 0.27\n",
      "Epoch [204/500], d_loss: 0.8955, g_loss: 1.5183, D(x): 0.65, D(G(z)): 0.26\n",
      "Epoch [205/500], d_loss: 1.0433, g_loss: 1.5119, D(x): 0.62, D(G(z)): 0.31\n",
      "Epoch [206/500], d_loss: 0.8345, g_loss: 1.4840, D(x): 0.72, D(G(z)): 0.31\n",
      "Epoch [207/500], d_loss: 0.8267, g_loss: 1.3868, D(x): 0.75, D(G(z)): 0.34\n",
      "Epoch [208/500], d_loss: 0.9494, g_loss: 1.6691, D(x): 0.69, D(G(z)): 0.32\n",
      "Epoch [209/500], d_loss: 0.8418, g_loss: 1.3951, D(x): 0.75, D(G(z)): 0.35\n",
      "Epoch [210/500], d_loss: 0.8233, g_loss: 1.4812, D(x): 0.85, D(G(z)): 0.40\n",
      "Epoch [211/500], d_loss: 1.2339, g_loss: 1.7267, D(x): 0.66, D(G(z)): 0.37\n",
      "Epoch [212/500], d_loss: 1.1524, g_loss: 1.0884, D(x): 0.69, D(G(z)): 0.43\n",
      "Epoch [213/500], d_loss: 0.9886, g_loss: 1.3061, D(x): 0.64, D(G(z)): 0.34\n",
      "Epoch [214/500], d_loss: 0.8260, g_loss: 1.6449, D(x): 0.68, D(G(z)): 0.26\n",
      "Epoch [215/500], d_loss: 0.9925, g_loss: 1.4015, D(x): 0.69, D(G(z)): 0.36\n",
      "Epoch [216/500], d_loss: 1.0561, g_loss: 1.4496, D(x): 0.59, D(G(z)): 0.28\n",
      "Epoch [217/500], d_loss: 0.9184, g_loss: 1.2417, D(x): 0.74, D(G(z)): 0.38\n",
      "Epoch [218/500], d_loss: 1.0310, g_loss: 1.3368, D(x): 0.67, D(G(z)): 0.37\n",
      "Epoch [219/500], d_loss: 1.0541, g_loss: 1.5134, D(x): 0.67, D(G(z)): 0.33\n",
      "Epoch [220/500], d_loss: 0.9113, g_loss: 1.5660, D(x): 0.67, D(G(z)): 0.30\n"
     ]
    },
    {
     "name": "stdout",
     "output_type": "stream",
     "text": [
      "Epoch [221/500], d_loss: 1.0774, g_loss: 1.3954, D(x): 0.69, D(G(z)): 0.39\n",
      "Epoch [222/500], d_loss: 0.8096, g_loss: 1.6237, D(x): 0.68, D(G(z)): 0.26\n",
      "Epoch [223/500], d_loss: 1.1484, g_loss: 1.5100, D(x): 0.64, D(G(z)): 0.34\n",
      "Epoch [224/500], d_loss: 0.8219, g_loss: 1.9419, D(x): 0.69, D(G(z)): 0.24\n",
      "Epoch [225/500], d_loss: 0.7890, g_loss: 1.5136, D(x): 0.69, D(G(z)): 0.27\n",
      "Epoch [226/500], d_loss: 1.2398, g_loss: 1.1170, D(x): 0.62, D(G(z)): 0.41\n",
      "Epoch [227/500], d_loss: 0.6829, g_loss: 1.9209, D(x): 0.78, D(G(z)): 0.26\n",
      "Epoch [228/500], d_loss: 0.8680, g_loss: 1.3463, D(x): 0.71, D(G(z)): 0.33\n",
      "Epoch [229/500], d_loss: 1.2372, g_loss: 1.1249, D(x): 0.64, D(G(z)): 0.42\n",
      "Epoch [230/500], d_loss: 1.3085, g_loss: 1.1614, D(x): 0.61, D(G(z)): 0.39\n",
      "Epoch [231/500], d_loss: 1.1279, g_loss: 1.3101, D(x): 0.71, D(G(z)): 0.41\n",
      "Epoch [232/500], d_loss: 1.2016, g_loss: 1.2637, D(x): 0.60, D(G(z)): 0.35\n",
      "Epoch [233/500], d_loss: 0.9375, g_loss: 1.3247, D(x): 0.69, D(G(z)): 0.35\n",
      "Epoch [234/500], d_loss: 1.3689, g_loss: 1.0384, D(x): 0.60, D(G(z)): 0.45\n",
      "Epoch [235/500], d_loss: 1.0509, g_loss: 1.3687, D(x): 0.64, D(G(z)): 0.32\n",
      "Epoch [236/500], d_loss: 0.9762, g_loss: 1.5776, D(x): 0.62, D(G(z)): 0.28\n",
      "Epoch [237/500], d_loss: 0.9336, g_loss: 1.2837, D(x): 0.70, D(G(z)): 0.33\n",
      "Epoch [238/500], d_loss: 0.8054, g_loss: 1.6099, D(x): 0.70, D(G(z)): 0.26\n",
      "Epoch [239/500], d_loss: 0.8603, g_loss: 1.6597, D(x): 0.77, D(G(z)): 0.33\n",
      "Epoch [240/500], d_loss: 0.9178, g_loss: 1.5150, D(x): 0.65, D(G(z)): 0.29\n",
      "Epoch [241/500], d_loss: 0.9999, g_loss: 1.2521, D(x): 0.66, D(G(z)): 0.35\n",
      "Epoch [242/500], d_loss: 0.9769, g_loss: 1.6375, D(x): 0.68, D(G(z)): 0.30\n",
      "Epoch [243/500], d_loss: 0.8787, g_loss: 1.8005, D(x): 0.69, D(G(z)): 0.27\n",
      "Epoch [244/500], d_loss: 0.8660, g_loss: 1.4553, D(x): 0.73, D(G(z)): 0.33\n",
      "Epoch [245/500], d_loss: 0.8451, g_loss: 1.4922, D(x): 0.71, D(G(z)): 0.31\n",
      "Epoch [246/500], d_loss: 0.9196, g_loss: 1.3147, D(x): 0.72, D(G(z)): 0.37\n",
      "Epoch [247/500], d_loss: 1.0216, g_loss: 1.6087, D(x): 0.71, D(G(z)): 0.35\n",
      "Epoch [248/500], d_loss: 0.9183, g_loss: 1.4002, D(x): 0.71, D(G(z)): 0.33\n",
      "Epoch [249/500], d_loss: 1.2083, g_loss: 1.1896, D(x): 0.60, D(G(z)): 0.37\n",
      "Epoch [250/500], d_loss: 1.2012, g_loss: 1.1991, D(x): 0.60, D(G(z)): 0.38\n",
      "Epoch [251/500], d_loss: 0.7010, g_loss: 1.6821, D(x): 0.79, D(G(z)): 0.30\n",
      "Epoch [252/500], d_loss: 0.7963, g_loss: 1.6366, D(x): 0.74, D(G(z)): 0.30\n",
      "Epoch [253/500], d_loss: 0.8440, g_loss: 1.4223, D(x): 0.71, D(G(z)): 0.32\n",
      "Epoch [254/500], d_loss: 1.1274, g_loss: 1.3023, D(x): 0.63, D(G(z)): 0.36\n",
      "Epoch [255/500], d_loss: 0.8264, g_loss: 1.5964, D(x): 0.74, D(G(z)): 0.30\n",
      "Epoch [256/500], d_loss: 0.7871, g_loss: 1.6198, D(x): 0.77, D(G(z)): 0.31\n",
      "Epoch [257/500], d_loss: 1.2045, g_loss: 1.1735, D(x): 0.65, D(G(z)): 0.43\n",
      "Epoch [258/500], d_loss: 1.0849, g_loss: 1.1276, D(x): 0.68, D(G(z)): 0.40\n",
      "Epoch [259/500], d_loss: 1.0876, g_loss: 1.3369, D(x): 0.64, D(G(z)): 0.34\n",
      "Epoch [260/500], d_loss: 1.1881, g_loss: 1.1261, D(x): 0.67, D(G(z)): 0.42\n",
      "Epoch [261/500], d_loss: 1.2661, g_loss: 1.0158, D(x): 0.62, D(G(z)): 0.42\n",
      "Epoch [262/500], d_loss: 0.9184, g_loss: 1.4581, D(x): 0.68, D(G(z)): 0.31\n",
      "Epoch [263/500], d_loss: 0.7383, g_loss: 1.5831, D(x): 0.75, D(G(z)): 0.28\n",
      "Epoch [264/500], d_loss: 1.0183, g_loss: 1.3696, D(x): 0.69, D(G(z)): 0.37\n",
      "Epoch [265/500], d_loss: 0.9243, g_loss: 1.5414, D(x): 0.66, D(G(z)): 0.29\n",
      "Epoch [266/500], d_loss: 0.7558, g_loss: 1.8002, D(x): 0.71, D(G(z)): 0.25\n",
      "Epoch [267/500], d_loss: 0.9378, g_loss: 1.4451, D(x): 0.67, D(G(z)): 0.32\n",
      "Epoch [268/500], d_loss: 0.8544, g_loss: 1.4136, D(x): 0.72, D(G(z)): 0.31\n",
      "Epoch [269/500], d_loss: 0.9179, g_loss: 1.3760, D(x): 0.70, D(G(z)): 0.34\n",
      "Epoch [270/500], d_loss: 0.7563, g_loss: 1.9820, D(x): 0.72, D(G(z)): 0.25\n",
      "Epoch [271/500], d_loss: 0.9535, g_loss: 1.3246, D(x): 0.67, D(G(z)): 0.34\n",
      "Epoch [272/500], d_loss: 0.9201, g_loss: 1.2634, D(x): 0.73, D(G(z)): 0.38\n",
      "Epoch [273/500], d_loss: 1.4730, g_loss: 1.1213, D(x): 0.57, D(G(z)): 0.44\n",
      "Epoch [274/500], d_loss: 0.7755, g_loss: 2.0366, D(x): 0.70, D(G(z)): 0.22\n",
      "Epoch [275/500], d_loss: 1.0830, g_loss: 1.1497, D(x): 0.65, D(G(z)): 0.37\n",
      "Epoch [276/500], d_loss: 1.2242, g_loss: 1.1328, D(x): 0.62, D(G(z)): 0.40\n",
      "Epoch [277/500], d_loss: 0.8816, g_loss: 1.4854, D(x): 0.69, D(G(z)): 0.30\n",
      "Epoch [278/500], d_loss: 0.9932, g_loss: 1.3273, D(x): 0.66, D(G(z)): 0.33\n",
      "Epoch [279/500], d_loss: 0.8585, g_loss: 1.4883, D(x): 0.75, D(G(z)): 0.35\n",
      "Epoch [280/500], d_loss: 0.7174, g_loss: 1.8613, D(x): 0.74, D(G(z)): 0.25\n",
      "Epoch [281/500], d_loss: 1.3661, g_loss: 1.2604, D(x): 0.55, D(G(z)): 0.37\n",
      "Epoch [282/500], d_loss: 1.5701, g_loss: 1.0277, D(x): 0.48, D(G(z)): 0.38\n",
      "Epoch [283/500], d_loss: 0.9199, g_loss: 1.3809, D(x): 0.67, D(G(z)): 0.33\n",
      "Epoch [284/500], d_loss: 1.2727, g_loss: 1.1849, D(x): 0.59, D(G(z)): 0.39\n",
      "Epoch [285/500], d_loss: 1.0477, g_loss: 1.4876, D(x): 0.69, D(G(z)): 0.35\n",
      "Epoch [286/500], d_loss: 1.3979, g_loss: 1.1366, D(x): 0.60, D(G(z)): 0.45\n",
      "Epoch [287/500], d_loss: 1.2541, g_loss: 1.0682, D(x): 0.61, D(G(z)): 0.41\n",
      "Epoch [288/500], d_loss: 0.8375, g_loss: 1.6064, D(x): 0.69, D(G(z)): 0.28\n",
      "Epoch [289/500], d_loss: 1.3713, g_loss: 1.1635, D(x): 0.55, D(G(z)): 0.38\n",
      "Epoch [290/500], d_loss: 0.9629, g_loss: 1.7744, D(x): 0.68, D(G(z)): 0.29\n",
      "Epoch [291/500], d_loss: 1.2933, g_loss: 1.2647, D(x): 0.54, D(G(z)): 0.33\n",
      "Epoch [292/500], d_loss: 1.0774, g_loss: 1.2940, D(x): 0.65, D(G(z)): 0.37\n",
      "Epoch [293/500], d_loss: 0.7244, g_loss: 1.6579, D(x): 0.72, D(G(z)): 0.27\n",
      "Epoch [294/500], d_loss: 1.0247, g_loss: 1.3984, D(x): 0.64, D(G(z)): 0.31\n",
      "Epoch [295/500], d_loss: 0.7973, g_loss: 2.1379, D(x): 0.76, D(G(z)): 0.26\n",
      "Epoch [296/500], d_loss: 0.8567, g_loss: 1.5068, D(x): 0.68, D(G(z)): 0.28\n",
      "Epoch [297/500], d_loss: 1.2523, g_loss: 1.0710, D(x): 0.64, D(G(z)): 0.44\n",
      "Epoch [298/500], d_loss: 1.2444, g_loss: 1.1567, D(x): 0.59, D(G(z)): 0.38\n",
      "Epoch [299/500], d_loss: 1.1281, g_loss: 1.2175, D(x): 0.66, D(G(z)): 0.40\n",
      "Epoch [300/500], d_loss: 0.6979, g_loss: 1.8500, D(x): 0.74, D(G(z)): 0.25\n",
      "Epoch [301/500], d_loss: 1.0519, g_loss: 1.2763, D(x): 0.67, D(G(z)): 0.37\n",
      "Epoch [302/500], d_loss: 1.0974, g_loss: 1.4478, D(x): 0.61, D(G(z)): 0.31\n",
      "Epoch [303/500], d_loss: 1.0218, g_loss: 1.2044, D(x): 0.69, D(G(z)): 0.38\n",
      "Epoch [304/500], d_loss: 1.1557, g_loss: 1.2727, D(x): 0.60, D(G(z)): 0.35\n",
      "Epoch [305/500], d_loss: 1.0203, g_loss: 1.4127, D(x): 0.64, D(G(z)): 0.32\n",
      "Epoch [306/500], d_loss: 1.4469, g_loss: 1.2531, D(x): 0.52, D(G(z)): 0.38\n",
      "Epoch [307/500], d_loss: 1.3961, g_loss: 1.1040, D(x): 0.56, D(G(z)): 0.41\n",
      "Epoch [308/500], d_loss: 0.9191, g_loss: 1.5855, D(x): 0.66, D(G(z)): 0.31\n",
      "Epoch [309/500], d_loss: 1.1961, g_loss: 1.3035, D(x): 0.62, D(G(z)): 0.38\n",
      "Epoch [310/500], d_loss: 1.0256, g_loss: 1.2624, D(x): 0.70, D(G(z)): 0.37\n",
      "Epoch [311/500], d_loss: 0.8112, g_loss: 1.5132, D(x): 0.69, D(G(z)): 0.27\n",
      "Epoch [312/500], d_loss: 1.1670, g_loss: 1.4521, D(x): 0.59, D(G(z)): 0.33\n",
      "Epoch [313/500], d_loss: 0.9460, g_loss: 1.8432, D(x): 0.69, D(G(z)): 0.29\n",
      "Epoch [314/500], d_loss: 1.0457, g_loss: 1.2580, D(x): 0.66, D(G(z)): 0.35\n",
      "Epoch [315/500], d_loss: 0.8982, g_loss: 1.3073, D(x): 0.73, D(G(z)): 0.35\n",
      "Epoch [316/500], d_loss: 0.9559, g_loss: 1.6805, D(x): 0.66, D(G(z)): 0.28\n",
      "Epoch [317/500], d_loss: 1.2523, g_loss: 1.3474, D(x): 0.57, D(G(z)): 0.37\n",
      "Epoch [318/500], d_loss: 1.0830, g_loss: 1.3013, D(x): 0.64, D(G(z)): 0.36\n",
      "Epoch [319/500], d_loss: 1.1172, g_loss: 1.4592, D(x): 0.61, D(G(z)): 0.31\n",
      "Epoch [320/500], d_loss: 0.7830, g_loss: 1.5912, D(x): 0.70, D(G(z)): 0.28\n",
      "Epoch [321/500], d_loss: 0.9999, g_loss: 1.4807, D(x): 0.63, D(G(z)): 0.30\n",
      "Epoch [322/500], d_loss: 0.7924, g_loss: 1.6252, D(x): 0.74, D(G(z)): 0.29\n",
      "Epoch [323/500], d_loss: 0.8248, g_loss: 1.4967, D(x): 0.74, D(G(z)): 0.31\n",
      "Epoch [324/500], d_loss: 0.6554, g_loss: 1.7471, D(x): 0.74, D(G(z)): 0.23\n",
      "Epoch [325/500], d_loss: 1.1532, g_loss: 1.2156, D(x): 0.61, D(G(z)): 0.34\n",
      "Epoch [326/500], d_loss: 1.2147, g_loss: 1.2114, D(x): 0.67, D(G(z)): 0.42\n",
      "Epoch [327/500], d_loss: 1.1257, g_loss: 1.1534, D(x): 0.66, D(G(z)): 0.39\n",
      "Epoch [328/500], d_loss: 0.8492, g_loss: 1.5946, D(x): 0.69, D(G(z)): 0.27\n",
      "Epoch [329/500], d_loss: 1.3417, g_loss: 1.0493, D(x): 0.62, D(G(z)): 0.46\n",
      "Epoch [330/500], d_loss: 1.1114, g_loss: 1.4435, D(x): 0.60, D(G(z)): 0.32\n"
     ]
    },
    {
     "name": "stdout",
     "output_type": "stream",
     "text": [
      "Epoch [331/500], d_loss: 0.9753, g_loss: 1.4312, D(x): 0.65, D(G(z)): 0.31\n",
      "Epoch [332/500], d_loss: 0.6756, g_loss: 1.9111, D(x): 0.72, D(G(z)): 0.22\n",
      "Epoch [333/500], d_loss: 0.9206, g_loss: 1.5420, D(x): 0.71, D(G(z)): 0.32\n",
      "Epoch [334/500], d_loss: 0.8741, g_loss: 1.4118, D(x): 0.70, D(G(z)): 0.31\n",
      "Epoch [335/500], d_loss: 0.9662, g_loss: 1.6550, D(x): 0.66, D(G(z)): 0.30\n",
      "Epoch [336/500], d_loss: 1.3064, g_loss: 1.1937, D(x): 0.62, D(G(z)): 0.43\n",
      "Epoch [337/500], d_loss: 1.2119, g_loss: 1.3534, D(x): 0.54, D(G(z)): 0.31\n",
      "Epoch [338/500], d_loss: 0.6963, g_loss: 1.7070, D(x): 0.76, D(G(z)): 0.27\n",
      "Epoch [339/500], d_loss: 0.9125, g_loss: 1.7138, D(x): 0.68, D(G(z)): 0.28\n",
      "Epoch [340/500], d_loss: 1.3991, g_loss: 1.2992, D(x): 0.62, D(G(z)): 0.41\n",
      "Epoch [341/500], d_loss: 0.9180, g_loss: 1.4664, D(x): 0.71, D(G(z)): 0.33\n",
      "Epoch [342/500], d_loss: 0.7826, g_loss: 1.8106, D(x): 0.70, D(G(z)): 0.25\n",
      "Epoch [343/500], d_loss: 1.0237, g_loss: 1.3610, D(x): 0.67, D(G(z)): 0.35\n",
      "Epoch [344/500], d_loss: 1.0717, g_loss: 1.2363, D(x): 0.64, D(G(z)): 0.34\n",
      "Epoch [345/500], d_loss: 1.0977, g_loss: 1.4187, D(x): 0.58, D(G(z)): 0.31\n",
      "Epoch [346/500], d_loss: 0.9197, g_loss: 1.4260, D(x): 0.69, D(G(z)): 0.33\n",
      "Epoch [347/500], d_loss: 1.0641, g_loss: 1.3652, D(x): 0.66, D(G(z)): 0.35\n",
      "Epoch [348/500], d_loss: 0.9101, g_loss: 1.4615, D(x): 0.67, D(G(z)): 0.30\n",
      "Epoch [349/500], d_loss: 1.0048, g_loss: 1.3230, D(x): 0.63, D(G(z)): 0.33\n",
      "Epoch [350/500], d_loss: 1.0881, g_loss: 1.5002, D(x): 0.66, D(G(z)): 0.36\n",
      "Epoch [351/500], d_loss: 1.1541, g_loss: 1.4030, D(x): 0.65, D(G(z)): 0.37\n",
      "Epoch [352/500], d_loss: 1.2784, g_loss: 1.2755, D(x): 0.60, D(G(z)): 0.39\n",
      "Epoch [353/500], d_loss: 0.9705, g_loss: 1.4249, D(x): 0.68, D(G(z)): 0.34\n",
      "Epoch [354/500], d_loss: 1.0535, g_loss: 1.6444, D(x): 0.66, D(G(z)): 0.30\n",
      "Epoch [355/500], d_loss: 1.2245, g_loss: 1.2341, D(x): 0.62, D(G(z)): 0.39\n",
      "Epoch [356/500], d_loss: 0.6864, g_loss: 1.6380, D(x): 0.78, D(G(z)): 0.29\n",
      "Epoch [357/500], d_loss: 1.2634, g_loss: 1.2133, D(x): 0.57, D(G(z)): 0.40\n",
      "Epoch [358/500], d_loss: 1.0256, g_loss: 1.4276, D(x): 0.67, D(G(z)): 0.35\n",
      "Epoch [359/500], d_loss: 1.0052, g_loss: 1.4316, D(x): 0.72, D(G(z)): 0.34\n",
      "Epoch [360/500], d_loss: 1.0755, g_loss: 1.2788, D(x): 0.68, D(G(z)): 0.37\n",
      "Epoch [361/500], d_loss: 0.9981, g_loss: 1.5755, D(x): 0.61, D(G(z)): 0.27\n",
      "Epoch [362/500], d_loss: 0.7184, g_loss: 1.6598, D(x): 0.76, D(G(z)): 0.27\n",
      "Epoch [363/500], d_loss: 0.9748, g_loss: 1.3469, D(x): 0.69, D(G(z)): 0.34\n",
      "Epoch [364/500], d_loss: 1.1708, g_loss: 1.2823, D(x): 0.65, D(G(z)): 0.39\n",
      "Epoch [365/500], d_loss: 1.3009, g_loss: 1.1266, D(x): 0.63, D(G(z)): 0.42\n",
      "Epoch [366/500], d_loss: 0.8395, g_loss: 1.6131, D(x): 0.74, D(G(z)): 0.29\n",
      "Epoch [367/500], d_loss: 1.3260, g_loss: 1.2390, D(x): 0.57, D(G(z)): 0.39\n",
      "Epoch [368/500], d_loss: 1.1075, g_loss: 1.2204, D(x): 0.66, D(G(z)): 0.38\n",
      "Epoch [369/500], d_loss: 1.0054, g_loss: 1.6578, D(x): 0.66, D(G(z)): 0.30\n",
      "Epoch [370/500], d_loss: 0.9848, g_loss: 1.5202, D(x): 0.66, D(G(z)): 0.31\n",
      "Epoch [371/500], d_loss: 1.1734, g_loss: 1.1033, D(x): 0.64, D(G(z)): 0.40\n",
      "Epoch [372/500], d_loss: 0.7980, g_loss: 1.4431, D(x): 0.74, D(G(z)): 0.31\n",
      "Epoch [373/500], d_loss: 0.8864, g_loss: 1.4717, D(x): 0.71, D(G(z)): 0.30\n",
      "Epoch [374/500], d_loss: 0.8283, g_loss: 1.4978, D(x): 0.72, D(G(z)): 0.32\n",
      "Epoch [375/500], d_loss: 1.2968, g_loss: 1.2936, D(x): 0.56, D(G(z)): 0.35\n",
      "Epoch [376/500], d_loss: 0.8827, g_loss: 1.5833, D(x): 0.70, D(G(z)): 0.30\n",
      "Epoch [377/500], d_loss: 0.8915, g_loss: 1.5830, D(x): 0.68, D(G(z)): 0.28\n",
      "Epoch [378/500], d_loss: 0.8967, g_loss: 1.7588, D(x): 0.67, D(G(z)): 0.28\n",
      "Epoch [379/500], d_loss: 0.8178, g_loss: 1.6268, D(x): 0.70, D(G(z)): 0.26\n",
      "Epoch [380/500], d_loss: 1.0365, g_loss: 1.5531, D(x): 0.64, D(G(z)): 0.31\n",
      "Epoch [381/500], d_loss: 1.0646, g_loss: 1.3343, D(x): 0.67, D(G(z)): 0.35\n",
      "Epoch [382/500], d_loss: 1.2038, g_loss: 1.0973, D(x): 0.62, D(G(z)): 0.40\n",
      "Epoch [383/500], d_loss: 0.9941, g_loss: 1.4429, D(x): 0.68, D(G(z)): 0.34\n",
      "Epoch [384/500], d_loss: 1.0923, g_loss: 1.4206, D(x): 0.69, D(G(z)): 0.35\n",
      "Epoch [385/500], d_loss: 0.9582, g_loss: 1.5666, D(x): 0.67, D(G(z)): 0.31\n",
      "Epoch [386/500], d_loss: 0.8783, g_loss: 1.3695, D(x): 0.74, D(G(z)): 0.35\n",
      "Epoch [387/500], d_loss: 0.8034, g_loss: 1.8317, D(x): 0.69, D(G(z)): 0.24\n",
      "Epoch [388/500], d_loss: 1.1749, g_loss: 1.4642, D(x): 0.65, D(G(z)): 0.36\n",
      "Epoch [389/500], d_loss: 0.8473, g_loss: 1.4594, D(x): 0.69, D(G(z)): 0.29\n",
      "Epoch [390/500], d_loss: 0.9621, g_loss: 1.4881, D(x): 0.67, D(G(z)): 0.29\n",
      "Epoch [391/500], d_loss: 0.8005, g_loss: 1.6782, D(x): 0.74, D(G(z)): 0.30\n",
      "Epoch [392/500], d_loss: 0.9088, g_loss: 1.4578, D(x): 0.71, D(G(z)): 0.34\n",
      "Epoch [393/500], d_loss: 0.8905, g_loss: 1.3325, D(x): 0.70, D(G(z)): 0.33\n",
      "Epoch [394/500], d_loss: 1.2145, g_loss: 1.3532, D(x): 0.60, D(G(z)): 0.34\n",
      "Epoch [395/500], d_loss: 1.0055, g_loss: 1.3601, D(x): 0.68, D(G(z)): 0.34\n",
      "Epoch [396/500], d_loss: 0.8381, g_loss: 1.6147, D(x): 0.72, D(G(z)): 0.30\n",
      "Epoch [397/500], d_loss: 0.8631, g_loss: 1.5062, D(x): 0.70, D(G(z)): 0.31\n",
      "Epoch [398/500], d_loss: 1.1128, g_loss: 1.5701, D(x): 0.63, D(G(z)): 0.32\n",
      "Epoch [399/500], d_loss: 1.1493, g_loss: 1.3060, D(x): 0.61, D(G(z)): 0.36\n",
      "Epoch [400/500], d_loss: 0.9917, g_loss: 1.4596, D(x): 0.69, D(G(z)): 0.33\n",
      "Epoch [401/500], d_loss: 1.0738, g_loss: 1.3144, D(x): 0.62, D(G(z)): 0.33\n",
      "Epoch [402/500], d_loss: 0.6095, g_loss: 2.0153, D(x): 0.76, D(G(z)): 0.21\n",
      "Epoch [403/500], d_loss: 1.0576, g_loss: 1.3364, D(x): 0.63, D(G(z)): 0.33\n",
      "Epoch [404/500], d_loss: 0.8292, g_loss: 1.5804, D(x): 0.72, D(G(z)): 0.31\n",
      "Epoch [405/500], d_loss: 1.1295, g_loss: 1.2660, D(x): 0.64, D(G(z)): 0.35\n",
      "Epoch [406/500], d_loss: 0.9203, g_loss: 1.5417, D(x): 0.73, D(G(z)): 0.34\n",
      "Epoch [407/500], d_loss: 0.8801, g_loss: 1.8276, D(x): 0.64, D(G(z)): 0.23\n",
      "Epoch [408/500], d_loss: 0.7340, g_loss: 1.6716, D(x): 0.78, D(G(z)): 0.29\n",
      "Epoch [409/500], d_loss: 1.1721, g_loss: 1.5238, D(x): 0.61, D(G(z)): 0.34\n",
      "Epoch [410/500], d_loss: 0.8408, g_loss: 1.8170, D(x): 0.68, D(G(z)): 0.26\n",
      "Epoch [411/500], d_loss: 0.7999, g_loss: 1.8306, D(x): 0.71, D(G(z)): 0.26\n",
      "Epoch [412/500], d_loss: 0.9992, g_loss: 1.4785, D(x): 0.65, D(G(z)): 0.32\n",
      "Epoch [413/500], d_loss: 0.9188, g_loss: 1.6710, D(x): 0.66, D(G(z)): 0.29\n",
      "Epoch [414/500], d_loss: 0.9063, g_loss: 1.4692, D(x): 0.72, D(G(z)): 0.32\n",
      "Epoch [415/500], d_loss: 1.0616, g_loss: 1.3501, D(x): 0.67, D(G(z)): 0.36\n",
      "Epoch [416/500], d_loss: 1.0271, g_loss: 1.4317, D(x): 0.69, D(G(z)): 0.35\n",
      "Epoch [417/500], d_loss: 1.1327, g_loss: 1.2754, D(x): 0.62, D(G(z)): 0.35\n",
      "Epoch [418/500], d_loss: 1.2544, g_loss: 1.3600, D(x): 0.59, D(G(z)): 0.36\n",
      "Epoch [419/500], d_loss: 0.9019, g_loss: 1.3759, D(x): 0.72, D(G(z)): 0.35\n",
      "Epoch [420/500], d_loss: 0.8372, g_loss: 1.5210, D(x): 0.69, D(G(z)): 0.27\n",
      "Epoch [421/500], d_loss: 0.9535, g_loss: 1.6624, D(x): 0.70, D(G(z)): 0.31\n",
      "Epoch [422/500], d_loss: 1.0316, g_loss: 1.4760, D(x): 0.68, D(G(z)): 0.33\n",
      "Epoch [423/500], d_loss: 0.8564, g_loss: 1.5064, D(x): 0.72, D(G(z)): 0.32\n",
      "Epoch [424/500], d_loss: 0.9754, g_loss: 1.6046, D(x): 0.66, D(G(z)): 0.30\n",
      "Epoch [425/500], d_loss: 1.3178, g_loss: 1.3594, D(x): 0.55, D(G(z)): 0.34\n",
      "Epoch [426/500], d_loss: 1.1940, g_loss: 1.4321, D(x): 0.60, D(G(z)): 0.35\n",
      "Epoch [427/500], d_loss: 0.8847, g_loss: 1.4786, D(x): 0.67, D(G(z)): 0.29\n",
      "Epoch [428/500], d_loss: 1.0328, g_loss: 1.3546, D(x): 0.70, D(G(z)): 0.37\n",
      "Epoch [429/500], d_loss: 1.0558, g_loss: 1.2535, D(x): 0.69, D(G(z)): 0.38\n",
      "Epoch [430/500], d_loss: 0.7293, g_loss: 1.6761, D(x): 0.74, D(G(z)): 0.28\n",
      "Epoch [431/500], d_loss: 0.7041, g_loss: 1.7458, D(x): 0.76, D(G(z)): 0.26\n",
      "Epoch [432/500], d_loss: 0.9424, g_loss: 1.5348, D(x): 0.66, D(G(z)): 0.30\n",
      "Epoch [433/500], d_loss: 0.8691, g_loss: 1.5083, D(x): 0.71, D(G(z)): 0.30\n",
      "Epoch [434/500], d_loss: 1.0945, g_loss: 1.2382, D(x): 0.67, D(G(z)): 0.38\n",
      "Epoch [435/500], d_loss: 0.8057, g_loss: 1.6957, D(x): 0.68, D(G(z)): 0.23\n",
      "Epoch [436/500], d_loss: 1.1373, g_loss: 1.6109, D(x): 0.58, D(G(z)): 0.28\n",
      "Epoch [437/500], d_loss: 0.9817, g_loss: 1.3857, D(x): 0.68, D(G(z)): 0.33\n",
      "Epoch [438/500], d_loss: 1.5250, g_loss: 1.0740, D(x): 0.58, D(G(z)): 0.44\n",
      "Epoch [439/500], d_loss: 0.9395, g_loss: 1.4885, D(x): 0.72, D(G(z)): 0.34\n",
      "Epoch [440/500], d_loss: 0.9677, g_loss: 1.4409, D(x): 0.68, D(G(z)): 0.32\n"
     ]
    },
    {
     "name": "stdout",
     "output_type": "stream",
     "text": [
      "Epoch [441/500], d_loss: 0.7637, g_loss: 1.5552, D(x): 0.74, D(G(z)): 0.29\n",
      "Epoch [442/500], d_loss: 0.9326, g_loss: 1.4603, D(x): 0.72, D(G(z)): 0.33\n",
      "Epoch [443/500], d_loss: 0.9140, g_loss: 1.8098, D(x): 0.65, D(G(z)): 0.24\n",
      "Epoch [444/500], d_loss: 1.0472, g_loss: 1.5180, D(x): 0.67, D(G(z)): 0.34\n",
      "Epoch [445/500], d_loss: 0.8749, g_loss: 1.5041, D(x): 0.73, D(G(z)): 0.32\n",
      "Epoch [446/500], d_loss: 0.9658, g_loss: 1.5866, D(x): 0.65, D(G(z)): 0.28\n",
      "Epoch [447/500], d_loss: 0.9458, g_loss: 1.4151, D(x): 0.73, D(G(z)): 0.36\n",
      "Epoch [448/500], d_loss: 0.9894, g_loss: 1.3058, D(x): 0.70, D(G(z)): 0.36\n",
      "Epoch [449/500], d_loss: 0.9820, g_loss: 1.5930, D(x): 0.68, D(G(z)): 0.31\n",
      "Epoch [450/500], d_loss: 1.0078, g_loss: 1.5425, D(x): 0.65, D(G(z)): 0.32\n",
      "Epoch [451/500], d_loss: 0.7063, g_loss: 1.9950, D(x): 0.71, D(G(z)): 0.21\n",
      "Epoch [452/500], d_loss: 0.9708, g_loss: 1.4926, D(x): 0.65, D(G(z)): 0.29\n",
      "Epoch [453/500], d_loss: 0.8331, g_loss: 1.5441, D(x): 0.70, D(G(z)): 0.27\n",
      "Epoch [454/500], d_loss: 1.1336, g_loss: 1.3834, D(x): 0.68, D(G(z)): 0.37\n",
      "Epoch [455/500], d_loss: 1.0268, g_loss: 1.4858, D(x): 0.65, D(G(z)): 0.32\n",
      "Epoch [456/500], d_loss: 1.1313, g_loss: 1.4105, D(x): 0.63, D(G(z)): 0.35\n",
      "Epoch [457/500], d_loss: 1.3343, g_loss: 1.1764, D(x): 0.60, D(G(z)): 0.42\n",
      "Epoch [458/500], d_loss: 0.9389, g_loss: 1.3658, D(x): 0.71, D(G(z)): 0.34\n",
      "Epoch [459/500], d_loss: 1.1436, g_loss: 1.3169, D(x): 0.65, D(G(z)): 0.36\n",
      "Epoch [460/500], d_loss: 0.8058, g_loss: 1.7476, D(x): 0.71, D(G(z)): 0.26\n",
      "Epoch [461/500], d_loss: 0.7771, g_loss: 1.7391, D(x): 0.71, D(G(z)): 0.25\n",
      "Epoch [462/500], d_loss: 1.1750, g_loss: 1.5685, D(x): 0.60, D(G(z)): 0.31\n",
      "Epoch [463/500], d_loss: 0.9263, g_loss: 1.5862, D(x): 0.70, D(G(z)): 0.31\n",
      "Epoch [464/500], d_loss: 1.0532, g_loss: 1.4543, D(x): 0.62, D(G(z)): 0.31\n",
      "Epoch [465/500], d_loss: 0.8774, g_loss: 1.5247, D(x): 0.71, D(G(z)): 0.31\n",
      "Epoch [466/500], d_loss: 0.7986, g_loss: 1.6280, D(x): 0.75, D(G(z)): 0.30\n",
      "Epoch [467/500], d_loss: 0.9813, g_loss: 1.6019, D(x): 0.71, D(G(z)): 0.32\n",
      "Epoch [468/500], d_loss: 1.0320, g_loss: 1.4976, D(x): 0.64, D(G(z)): 0.32\n",
      "Epoch [469/500], d_loss: 0.6250, g_loss: 1.9067, D(x): 0.77, D(G(z)): 0.22\n",
      "Epoch [470/500], d_loss: 1.0336, g_loss: 1.3575, D(x): 0.67, D(G(z)): 0.33\n",
      "Epoch [471/500], d_loss: 0.9432, g_loss: 1.5557, D(x): 0.66, D(G(z)): 0.29\n",
      "Epoch [472/500], d_loss: 0.9872, g_loss: 1.3486, D(x): 0.66, D(G(z)): 0.33\n",
      "Epoch [473/500], d_loss: 1.0437, g_loss: 1.3412, D(x): 0.65, D(G(z)): 0.34\n",
      "Epoch [474/500], d_loss: 0.9370, g_loss: 1.5013, D(x): 0.67, D(G(z)): 0.29\n",
      "Epoch [475/500], d_loss: 1.0437, g_loss: 1.6374, D(x): 0.61, D(G(z)): 0.28\n",
      "Epoch [476/500], d_loss: 0.8156, g_loss: 1.5428, D(x): 0.76, D(G(z)): 0.32\n",
      "Epoch [477/500], d_loss: 0.9729, g_loss: 1.1958, D(x): 0.73, D(G(z)): 0.39\n",
      "Epoch [478/500], d_loss: 1.1939, g_loss: 1.3650, D(x): 0.62, D(G(z)): 0.37\n",
      "Epoch [479/500], d_loss: 0.9428, g_loss: 1.6367, D(x): 0.66, D(G(z)): 0.28\n",
      "Epoch [480/500], d_loss: 0.7691, g_loss: 1.6209, D(x): 0.74, D(G(z)): 0.29\n",
      "Epoch [481/500], d_loss: 1.1679, g_loss: 1.2274, D(x): 0.66, D(G(z)): 0.40\n",
      "Epoch [482/500], d_loss: 1.3595, g_loss: 1.1986, D(x): 0.60, D(G(z)): 0.38\n",
      "Epoch [483/500], d_loss: 0.9785, g_loss: 1.4172, D(x): 0.70, D(G(z)): 0.33\n",
      "Epoch [484/500], d_loss: 1.0722, g_loss: 1.3724, D(x): 0.64, D(G(z)): 0.35\n",
      "Epoch [485/500], d_loss: 1.1431, g_loss: 1.3180, D(x): 0.62, D(G(z)): 0.35\n",
      "Epoch [486/500], d_loss: 0.8118, g_loss: 1.5899, D(x): 0.73, D(G(z)): 0.28\n",
      "Epoch [487/500], d_loss: 1.1439, g_loss: 1.3193, D(x): 0.65, D(G(z)): 0.37\n",
      "Epoch [488/500], d_loss: 0.9281, g_loss: 1.3181, D(x): 0.70, D(G(z)): 0.34\n",
      "Epoch [489/500], d_loss: 0.9513, g_loss: 1.4051, D(x): 0.69, D(G(z)): 0.32\n",
      "Epoch [490/500], d_loss: 1.4754, g_loss: 1.0264, D(x): 0.58, D(G(z)): 0.45\n",
      "Epoch [491/500], d_loss: 0.8968, g_loss: 1.5240, D(x): 0.65, D(G(z)): 0.28\n",
      "Epoch [492/500], d_loss: 0.8289, g_loss: 1.5691, D(x): 0.74, D(G(z)): 0.28\n",
      "Epoch [493/500], d_loss: 1.1610, g_loss: 1.2956, D(x): 0.64, D(G(z)): 0.38\n",
      "Epoch [494/500], d_loss: 1.0329, g_loss: 1.4531, D(x): 0.65, D(G(z)): 0.31\n",
      "Epoch [495/500], d_loss: 1.0894, g_loss: 1.4909, D(x): 0.61, D(G(z)): 0.32\n",
      "Epoch [496/500], d_loss: 0.9599, g_loss: 1.3823, D(x): 0.67, D(G(z)): 0.33\n",
      "Epoch [497/500], d_loss: 1.0178, g_loss: 1.2785, D(x): 0.71, D(G(z)): 0.36\n",
      "Epoch [498/500], d_loss: 0.8895, g_loss: 1.5082, D(x): 0.68, D(G(z)): 0.30\n",
      "Epoch [499/500], d_loss: 0.7135, g_loss: 1.6373, D(x): 0.74, D(G(z)): 0.25\n"
     ]
    }
   ],
   "source": [
    "total_step = len(train_loader)\n",
    "for epoch in range(EPOCHS):\n",
    "    for i, (images, _) in enumerate(train_loader):\n",
    "        images = images.reshape(BATCH_SIZE, -1).to(DEVICE)\n",
    "        \n",
    "        # '진짜'와 '가짜' 레이블 생성\n",
    "        real_labels = torch.ones(BATCH_SIZE, 1).to(DEVICE)\n",
    "        fake_labels = torch.zeros(BATCH_SIZE, 1).to(DEVICE)\n",
    "        \n",
    "        # 판별자가 진짜 이미지를 진짜로 인식하는 오차를 예산\n",
    "        outputs = D(images)\n",
    "        d_loss_real = criterion(outputs, real_labels)\n",
    "        real_score = outputs\n",
    "        \n",
    "        # 무작위 텐서로 가짜 이미지 생성\n",
    "        z = torch.randn(BATCH_SIZE, 64).to(DEVICE)\n",
    "        fake_images = G(z)\n",
    "        \n",
    "        # 판별자가 가짜 이미지를 가짜로 인식하는 오차를 계산\n",
    "        outputs = D(fake_images)\n",
    "        d_loss_fake = criterion(outputs, fake_labels)\n",
    "        fake_score = outputs\n",
    "        \n",
    "        # 진짜와 가짜 이미지를 갖고 낸 오차를 더해서 판별자의 오차 계산\n",
    "        d_loss = d_loss_real + d_loss_fake\n",
    "\n",
    "        # 역전파 알고리즘으로 판별자 모델의 학습을 진행\n",
    "        d_optimizer.zero_grad()\n",
    "        g_optimizer.zero_grad()\n",
    "        d_loss.backward()\n",
    "        d_optimizer.step()\n",
    "        \n",
    "        # 생성자가 판별자를 속였는지에 대한 오차를 계산\n",
    "        fake_images = G(z)\n",
    "        outputs = D(fake_images)\n",
    "        g_loss = criterion(outputs, real_labels)\n",
    "        \n",
    "        # 역전파 알고리즘으로 생성자 모델의 학습을 진행\n",
    "        d_optimizer.zero_grad()\n",
    "        g_optimizer.zero_grad()\n",
    "        g_loss.backward()\n",
    "        g_optimizer.step()\n",
    "        \n",
    "    # 학습 진행 알아보기\n",
    "    print('Epoch [{}/{}], d_loss: {:.4f}, g_loss: {:.4f}, D(x): {:.2f}, D(G(z)): {:.2f}' \n",
    "          .format(epoch, EPOCHS, d_loss.item(), g_loss.item(), \n",
    "                  real_score.mean().item(), fake_score.mean().item()))"
   ]
  },
  {
   "cell_type": "code",
   "execution_count": 8,
   "id": "67d1c580",
   "metadata": {
    "ExecuteTime": {
     "end_time": "2022-02-22T06:24:59.241373Z",
     "start_time": "2022-02-22T06:24:55.683883Z"
    }
   },
   "outputs": [
    {
     "data": {
      "image/png": "[encoded data removed]",
      "text/plain": [
       "<Figure size 432x288 with 1 Axes>"
      ]
     },
     "metadata": {
      "needs_background": "light"
     },
     "output_type": "display_data"
    },
    {
     "data": {
      "image/png": "[encoded data removed]",
      "text/plain": [
       "<Figure size 432x288 with 1 Axes>"
      ]
     },
     "metadata": {
      "needs_background": "light"
     },
     "output_type": "display_data"
    },
    {
     "data": {
      "image/png": "[encoded data removed]",
      "text/plain": [
       "<Figure size 432x288 with 1 Axes>"
      ]
     },
     "metadata": {
      "needs_background": "light"
     },
     "output_type": "display_data"
    },
    {
     "data": {
      "image/png": "[encoded data removed]",
      "text/plain": [
       "<Figure size 432x288 with 1 Axes>"
      ]
     },
     "metadata": {
      "needs_background": "light"
     },
     "output_type": "display_data"
    },
    {
     "data": {
      "image/png": "[encoded data removed]",
      "text/plain": [
       "<Figure size 432x288 with 1 Axes>"
      ]
     },
     "metadata": {
      "needs_background": "light"
     },
     "output_type": "display_data"
    },
    {
     "data": {
      "image/png": "[encoded data removed]",
      "text/plain": [
       "<Figure size 432x288 with 1 Axes>"
      ]
     },
     "metadata": {
      "needs_background": "light"
     },
     "output_type": "display_data"
    },
    {
     "data": {
      "image/png": "[encoded data removed]",
      "text/plain": [
       "<Figure size 432x288 with 1 Axes>"
      ]
     },
     "metadata": {
      "needs_background": "light"
     },
     "output_type": "display_data"
    },
    {
     "data": {
      "image/png": "[encoded data removed]",
      "text/plain": [
       "<Figure size 432x288 with 1 Axes>"
      ]
     },
     "metadata": {
      "needs_background": "light"
     },
     "output_type": "display_data"
    },
    {
     "data": {
      "image/png": "[encoded data removed]",
      "text/plain": [
       "<Figure size 432x288 with 1 Axes>"
      ]
     },
     "metadata": {
      "needs_background": "light"
     },
     "output_type": "display_data"
    },
    {
     "data": {
      "image/png": "[encoded data removed]",
      "text/plain": [
       "<Figure size 432x288 with 1 Axes>"
      ]
     },
     "metadata": {
      "needs_background": "light"
     },
     "output_type": "display_data"
    }
   ],
   "source": [
    "z = torch.randn(BATCH_SIZE, 64).to(DEVICE)\n",
    "fake_images = G(z)\n",
    "for i in range(10):\n",
    "    fake_images_img = np.reshape(fake_images.data.cpu().numpy()[i],(28, 28))\n",
    "    plt.imshow(fake_images_img, cmap = 'gray')\n",
    "    plt.show()"
   ]
  },
  {
   "cell_type": "code",
   "execution_count": 9,
   "id": "41af8726",
   "metadata": {
    "ExecuteTime": {
     "end_time": "2022-02-22T06:24:59.369030Z",
     "start_time": "2022-02-22T06:24:59.359057Z"
    }
   },
   "outputs": [
    {
     "name": "stdout",
     "output_type": "stream",
     "text": [
      "Using Device: cpu\n"
     ]
    }
   ],
   "source": [
    "# 하이퍼파라미터\n",
    "EPOCHS = 300\n",
    "BATCH_SIZE = 100\n",
    "USE_CUDA = torch.cuda.is_available()\n",
    "DEVICE = torch.device(\"cuda\" if USE_CUDA else \"cpu\")\n",
    "print(\"Using Device:\", DEVICE)"
   ]
  },
  {
   "cell_type": "code",
   "execution_count": 10,
   "id": "d5b98aaa",
   "metadata": {
    "ExecuteTime": {
     "end_time": "2022-02-22T06:24:59.758988Z",
     "start_time": "2022-02-22T06:24:59.482726Z"
    }
   },
   "outputs": [],
   "source": [
    "# Fashion MNIST 데이터셋\n",
    "trainset = datasets.FashionMNIST(\n",
    "    './.data',\n",
    "    train=True,\n",
    "    download=True,\n",
    "    transform=transforms.Compose([\n",
    "       transforms.ToTensor(),\n",
    "       transforms.Normalize((0.5,), (0.5,))\n",
    "    ])\n",
    ")\n",
    "train_loader = torch.utils.data.DataLoader(\n",
    "    dataset     = trainset,\n",
    "    batch_size  = BATCH_SIZE,\n",
    "    shuffle     = True\n",
    ")"
   ]
  },
  {
   "cell_type": "code",
   "execution_count": 11,
   "id": "85605520",
   "metadata": {
    "ExecuteTime": {
     "end_time": "2022-02-22T06:24:59.901607Z",
     "start_time": "2022-02-22T06:24:59.873683Z"
    }
   },
   "outputs": [],
   "source": [
    "# 생성자 (Generator)\n",
    "class Generator(nn.Module):\n",
    "    def __init__(self):\n",
    "        super().__init__()\n",
    "        \n",
    "        self.embed = nn.Embedding(10, 10)\n",
    "        \n",
    "        self.model = nn.Sequential(\n",
    "            nn.Linear(110, 256),\n",
    "            nn.LeakyReLU(0.2, inplace=True),\n",
    "            nn.Linear(256, 512),\n",
    "            nn.LeakyReLU(0.2, inplace=True),\n",
    "            nn.Linear(512, 1024),\n",
    "            nn.LeakyReLU(0.2, inplace=True),\n",
    "            nn.Linear(1024, 784),\n",
    "            nn.Tanh()\n",
    "        )\n",
    "    \n",
    "    def forward(self, z, labels):\n",
    "        c = self.embed(labels)\n",
    "        x = torch.cat([z, c], 1)\n",
    "        return self.model(x)"
   ]
  },
  {
   "cell_type": "code",
   "execution_count": 12,
   "id": "0fe02366",
   "metadata": {
    "ExecuteTime": {
     "end_time": "2022-02-22T06:25:00.091100Z",
     "start_time": "2022-02-22T06:25:00.063175Z"
    }
   },
   "outputs": [],
   "source": [
    "# 판별자 (Discriminator)\n",
    "class Discriminator(nn.Module):\n",
    "    def __init__(self):\n",
    "        super().__init__()\n",
    "        \n",
    "        self.embed = nn.Embedding(10, 10)\n",
    "        \n",
    "        self.model = nn.Sequential(\n",
    "            nn.Linear(794, 1024),\n",
    "            nn.LeakyReLU(0.2, inplace=True),\n",
    "            nn.Dropout(0.3),\n",
    "            nn.Linear(1024, 512),\n",
    "            nn.LeakyReLU(0.2, inplace=True),\n",
    "            nn.Dropout(0.3),\n",
    "            nn.Linear(512, 256),\n",
    "            nn.LeakyReLU(0.2, inplace=True),\n",
    "            nn.Dropout(0.3),\n",
    "            nn.Linear(256, 1),\n",
    "            nn.Sigmoid()\n",
    "        )\n",
    "    \n",
    "    def forward(self, x, labels):\n",
    "        c = self.embed(labels)\n",
    "        x = torch.cat([x, c], 1)\n",
    "        return self.model(x)"
   ]
  },
  {
   "cell_type": "code",
   "execution_count": 13,
   "id": "4e533f36",
   "metadata": {
    "ExecuteTime": {
     "end_time": "2022-02-22T06:25:00.344423Z",
     "start_time": "2022-02-22T06:25:00.236712Z"
    }
   },
   "outputs": [],
   "source": [
    "# 모델 인스턴스를 만들고 모델의 가중치를 지정한 장치로 보내기\n",
    "D = Discriminator().to(DEVICE)\n",
    "G = Generator().to(DEVICE)\n",
    "\n",
    "# 이진 교차 엔트로피 함수와\n",
    "# 생성자와 판별자를 최적화할 Adam 모듈\n",
    "criterion = nn.BCELoss()\n",
    "d_optimizer = optim.Adam(D.parameters(), lr =0.0002)\n",
    "g_optimizer = optim.Adam(G.parameters(), lr =0.0002)"
   ]
  },
  {
   "cell_type": "code",
   "execution_count": null,
   "id": "034073eb",
   "metadata": {
    "ExecuteTime": {
     "start_time": "2022-02-21T23:42:28.243Z"
    }
   },
   "outputs": [
    {
     "name": "stdout",
     "output_type": "stream",
     "text": [
      "이폭 [0/300] d_loss:0.1324 g_loss: 5.6149 D(x):0.95 D(G(z)):0.05\n",
      "이폭 [1/300] d_loss:0.4619 g_loss: 4.5284 D(x):0.85 D(G(z)):0.15\n",
      "이폭 [2/300] d_loss:0.5108 g_loss: 4.8493 D(x):0.83 D(G(z)):0.07\n",
      "이폭 [3/300] d_loss:0.4944 g_loss: 3.3446 D(x):0.87 D(G(z)):0.16\n",
      "이폭 [4/300] d_loss:0.5522 g_loss: 2.6130 D(x):0.87 D(G(z)):0.24\n",
      "이폭 [5/300] d_loss:0.5702 g_loss: 1.9010 D(x):0.85 D(G(z)):0.25\n",
      "이폭 [6/300] d_loss:0.7290 g_loss: 2.1103 D(x):0.82 D(G(z)):0.28\n",
      "이폭 [7/300] d_loss:0.9881 g_loss: 1.9109 D(x):0.73 D(G(z)):0.31\n",
      "이폭 [8/300] d_loss:0.7552 g_loss: 1.9287 D(x):0.76 D(G(z)):0.23\n",
      "이폭 [9/300] d_loss:0.7583 g_loss: 1.7691 D(x):0.76 D(G(z)):0.26\n",
      "이폭 [10/300] d_loss:0.9038 g_loss: 1.5192 D(x):0.72 D(G(z)):0.30\n",
      "이폭 [11/300] d_loss:0.9332 g_loss: 1.4990 D(x):0.73 D(G(z)):0.35\n",
      "이폭 [12/300] d_loss:0.7696 g_loss: 1.7951 D(x):0.70 D(G(z)):0.21\n",
      "이폭 [13/300] d_loss:0.9357 g_loss: 1.4554 D(x):0.69 D(G(z)):0.30\n",
      "이폭 [14/300] d_loss:1.3092 g_loss: 1.3903 D(x):0.62 D(G(z)):0.37\n",
      "이폭 [15/300] d_loss:0.8974 g_loss: 1.5065 D(x):0.72 D(G(z)):0.33\n",
      "이폭 [16/300] d_loss:0.8671 g_loss: 1.6326 D(x):0.72 D(G(z)):0.29\n",
      "이폭 [17/300] d_loss:0.9138 g_loss: 1.3424 D(x):0.68 D(G(z)):0.31\n",
      "이폭 [18/300] d_loss:1.0390 g_loss: 1.4401 D(x):0.64 D(G(z)):0.31\n",
      "이폭 [19/300] d_loss:0.8748 g_loss: 1.3964 D(x):0.72 D(G(z)):0.32\n",
      "이폭 [20/300] d_loss:0.9029 g_loss: 1.4353 D(x):0.69 D(G(z)):0.30\n",
      "이폭 [21/300] d_loss:0.9707 g_loss: 1.1489 D(x):0.71 D(G(z)):0.39\n",
      "이폭 [22/300] d_loss:0.8575 g_loss: 1.5270 D(x):0.67 D(G(z)):0.28\n",
      "이폭 [23/300] d_loss:1.0632 g_loss: 1.4678 D(x):0.67 D(G(z)):0.35\n",
      "이폭 [24/300] d_loss:0.8606 g_loss: 1.6687 D(x):0.73 D(G(z)):0.30\n",
      "이폭 [25/300] d_loss:1.2254 g_loss: 1.0029 D(x):0.60 D(G(z)):0.43\n",
      "이폭 [26/300] d_loss:0.9954 g_loss: 1.4678 D(x):0.64 D(G(z)):0.29\n",
      "이폭 [27/300] d_loss:1.3156 g_loss: 1.2131 D(x):0.58 D(G(z)):0.39\n",
      "이폭 [28/300] d_loss:1.2304 g_loss: 1.2164 D(x):0.61 D(G(z)):0.38\n",
      "이폭 [29/300] d_loss:1.0526 g_loss: 1.3550 D(x):0.68 D(G(z)):0.34\n",
      "이폭 [30/300] d_loss:0.9290 g_loss: 1.5623 D(x):0.68 D(G(z)):0.30\n",
      "이폭 [31/300] d_loss:1.1833 g_loss: 1.0742 D(x):0.60 D(G(z)):0.42\n",
      "이폭 [32/300] d_loss:1.1867 g_loss: 1.3421 D(x):0.61 D(G(z)):0.35\n",
      "이폭 [33/300] d_loss:1.0734 g_loss: 1.1818 D(x):0.63 D(G(z)):0.36\n",
      "이폭 [34/300] d_loss:1.2383 g_loss: 1.1951 D(x):0.59 D(G(z)):0.40\n",
      "이폭 [35/300] d_loss:0.8896 g_loss: 1.5250 D(x):0.65 D(G(z)):0.28\n",
      "이폭 [36/300] d_loss:1.1465 g_loss: 1.3118 D(x):0.57 D(G(z)):0.33\n",
      "이폭 [37/300] d_loss:1.1148 g_loss: 1.4075 D(x):0.60 D(G(z)):0.31\n",
      "이폭 [38/300] d_loss:0.9682 g_loss: 1.4124 D(x):0.64 D(G(z)):0.30\n",
      "이폭 [39/300] d_loss:1.1558 g_loss: 1.1003 D(x):0.65 D(G(z)):0.41\n",
      "이폭 [40/300] d_loss:1.0766 g_loss: 0.9308 D(x):0.65 D(G(z)):0.43\n",
      "이폭 [41/300] d_loss:1.2686 g_loss: 1.0859 D(x):0.63 D(G(z)):0.43\n",
      "이폭 [42/300] d_loss:1.3185 g_loss: 1.1647 D(x):0.53 D(G(z)):0.35\n",
      "이폭 [43/300] d_loss:1.1003 g_loss: 1.3138 D(x):0.61 D(G(z)):0.32\n",
      "이폭 [44/300] d_loss:1.0712 g_loss: 1.1506 D(x):0.65 D(G(z)):0.38\n",
      "이폭 [45/300] d_loss:1.0648 g_loss: 1.2058 D(x):0.67 D(G(z)):0.39\n",
      "이폭 [46/300] d_loss:1.1617 g_loss: 1.1809 D(x):0.62 D(G(z)):0.38\n",
      "이폭 [47/300] d_loss:1.1460 g_loss: 0.8197 D(x):0.68 D(G(z)):0.46\n",
      "이폭 [48/300] d_loss:0.9475 g_loss: 1.2071 D(x):0.65 D(G(z)):0.33\n",
      "이폭 [49/300] d_loss:1.2298 g_loss: 1.0889 D(x):0.56 D(G(z)):0.38\n",
      "이폭 [50/300] d_loss:1.1150 g_loss: 1.2198 D(x):0.63 D(G(z)):0.37\n",
      "이폭 [51/300] d_loss:1.1449 g_loss: 1.0197 D(x):0.60 D(G(z)):0.39\n",
      "이폭 [52/300] d_loss:1.2011 g_loss: 1.0130 D(x):0.59 D(G(z)):0.41\n",
      "이폭 [53/300] d_loss:1.1362 g_loss: 1.1601 D(x):0.62 D(G(z)):0.35\n",
      "이폭 [54/300] d_loss:1.1813 g_loss: 0.8894 D(x):0.63 D(G(z)):0.45\n",
      "이폭 [55/300] d_loss:1.2618 g_loss: 0.9643 D(x):0.56 D(G(z)):0.43\n",
      "이폭 [56/300] d_loss:1.2138 g_loss: 1.0707 D(x):0.59 D(G(z)):0.40\n",
      "이폭 [57/300] d_loss:1.2075 g_loss: 1.0679 D(x):0.59 D(G(z)):0.38\n",
      "이폭 [58/300] d_loss:1.0982 g_loss: 1.1820 D(x):0.56 D(G(z)):0.32\n",
      "이폭 [59/300] d_loss:1.2368 g_loss: 0.9608 D(x):0.55 D(G(z)):0.41\n",
      "이폭 [60/300] d_loss:1.0906 g_loss: 1.2321 D(x):0.67 D(G(z)):0.41\n",
      "이폭 [61/300] d_loss:1.3424 g_loss: 0.8879 D(x):0.57 D(G(z)):0.48\n",
      "이폭 [62/300] d_loss:1.0623 g_loss: 1.1793 D(x):0.61 D(G(z)):0.37\n",
      "이폭 [63/300] d_loss:1.0057 g_loss: 1.4037 D(x):0.64 D(G(z)):0.30\n"
     ]
    }
   ],
   "source": [
    "total_step = len(train_loader)\n",
    "for epoch in range(EPOCHS):\n",
    "    for i, (images, labels) in enumerate(train_loader):\n",
    "        images = images.reshape(BATCH_SIZE, -1).to(DEVICE)\n",
    "        \n",
    "        # '진짜'와 '가짜' 레이블 생성\n",
    "        real_labels = torch.ones(BATCH_SIZE, 1).to(DEVICE)\n",
    "        fake_labels = torch.zeros(BATCH_SIZE, 1).to(DEVICE)\n",
    "\n",
    "        # 판별자가 진짜 이미지를 진짜로 인식하는 오차 계산 (데이터셋 레이블 입력)\n",
    "        labels = labels.to(DEVICE)\n",
    "        outputs = D(images, labels)\n",
    "        d_loss_real = criterion(outputs, real_labels)\n",
    "        real_score = outputs\n",
    "    \n",
    "        # 무작위 텐서와 무작위 레이블을 생성자에 입력해 가짜 이미지 생성\n",
    "        z = torch.randn(BATCH_SIZE, 100).to(DEVICE)\n",
    "        g_label = torch.randint(0, 10, (BATCH_SIZE,)).to(DEVICE)\n",
    "        fake_images = G(z, g_label)\n",
    "        \n",
    "        # 판별자가 가짜 이미지를 가짜로 인식하는 오차 계산\n",
    "        outputs = D(fake_images, g_label)\n",
    "        d_loss_fake = criterion(outputs, fake_labels)\n",
    "        fake_score = outputs\n",
    "        \n",
    "        # 진짜와 가짜 이미지를 갖고 낸 오차를 더해서 판별자의 오차 계산\n",
    "        d_loss = d_loss_real + d_loss_fake\n",
    "        \n",
    "        # 역전파 알고리즘으로 판별자 모델의 학습을 진행\n",
    "        d_optimizer.zero_grad()\n",
    "        g_optimizer.zero_grad()\n",
    "        d_loss.backward()\n",
    "        d_optimizer.step()\n",
    "        \n",
    "        # 생성자가 판별자를 속였는지에 대한 오차 계산(무작위 레이블 입력)\n",
    "        fake_images = G(z, g_label)\n",
    "        outputs = D(fake_images, g_label)\n",
    "        g_loss = criterion(outputs, real_labels)\n",
    "\n",
    "        # 역전파 알고리즘으로 생성자 모델의 학습을 진행\n",
    "        d_optimizer.zero_grad()\n",
    "        g_optimizer.zero_grad()\n",
    "        g_loss.backward()\n",
    "        g_optimizer.step()\n",
    "        \n",
    "    print('이폭 [{}/{}] d_loss:{:.4f} g_loss: {:.4f} D(x):{:.2f} D(G(z)):{:.2f}'\n",
    "          .format(epoch,\n",
    "                  EPOCHS,\n",
    "                  d_loss.item(),\n",
    "                  g_loss.item(),\n",
    "                  real_score.mean().item(),\n",
    "                  fake_score.mean().item()))"
   ]
  },
  {
   "cell_type": "code",
   "execution_count": null,
   "id": "9ab0854f",
   "metadata": {
    "ExecuteTime": {
     "start_time": "2022-02-21T23:42:39.221Z"
    }
   },
   "outputs": [],
   "source": [
    "# 만들고 싶은 아이템 생성하고 시각화하기\n",
    "item_number = 9 # 아이템 번호\n",
    "z = torch.randn(1, 100).to(DEVICE) # 배치 크기 1\n",
    "g_label = torch.full((1,), item_number, dtype=torch.long).to(DEVICE)\n",
    "sample_images = G(z, g_label)\n",
    "\n",
    "sample_images_img = np.reshape(sample_images.data.cpu().numpy()\n",
    "                               [0],(28, 28))\n",
    "plt.imshow(sample_images_img, cmap = 'gray')\n",
    "plt.show()"
   ]
  }
 ],
 "metadata": {
  "kernelspec": {
   "display_name": "Python 3 (ipykernel)",
   "language": "python",
   "name": "python3"
  },
  "language_info": {
   "codemirror_mode": {
    "name": "ipython",
    "version": 3
   },
   "file_extension": ".py",
   "mimetype": "text/x-python",
   "name": "python",
   "nbconvert_exporter": "python",
   "pygments_lexer": "ipython3",
   "version": "3.7.11"
  },
  "varInspector": {
   "cols": {
    "lenName": 16,
    "lenType": 16,
    "lenVar": 40
   },
   "kernels_config": {
    "python": {
     "delete_cmd_postfix": "",
     "delete_cmd_prefix": "del ",
     "library": "var_list.py",
     "varRefreshCmd": "print(var_dic_list())"
    },
    "r": {
     "delete_cmd_postfix": ") ",
     "delete_cmd_prefix": "rm(",
     "library": "var_list.r",
     "varRefreshCmd": "cat(var_dic_list()) "
    }
   },
   "types_to_exclude": [
    "module",
    "function",
    "builtin_function_or_method",
    "instance",
    "_Feature"
   ],
   "window_display": false
  }
 },
 "nbformat": 4,
 "nbformat_minor": 5
}
